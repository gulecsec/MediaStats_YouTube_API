{
 "cells": [
  {
   "cell_type": "code",
   "execution_count": 1,
   "id": "e72443ab",
   "metadata": {},
   "outputs": [],
   "source": [
    "from googleapiclient.discovery import build\n",
    "from dateutil import parser\n",
    "import pandas as pd\n",
    "from IPython.display import JSON\n",
    "from datetime import datetime, timedelta\n",
    "import isodate #parse\n",
    "import os\n",
    "import numpy as np\n",
    "import csv\n",
    "\n",
    "# Data viz packages\n",
    "import seaborn as sns\n",
    "import matplotlib.pyplot as plt\n",
    "import matplotlib.ticker as ticker\n",
    "\n",
    "# NLP\n",
    "import nltk\n",
    "from nltk.corpus import stopwords\n",
    "from nltk.tokenize import word_tokenize\n",
    "from wordcloud import WordCloud"
   ]
  },
  {
   "cell_type": "code",
   "execution_count": 2,
   "id": "f3b18bbb",
   "metadata": {},
   "outputs": [],
   "source": [
    "api_key = 'your_api_key'"
   ]
  },
  {
   "cell_type": "code",
   "execution_count": 3,
   "id": "2e185644",
   "metadata": {},
   "outputs": [],
   "source": [
    "channel_id='your_channel_id'"
   ]
  },
  {
   "cell_type": "code",
   "execution_count": 4,
   "id": "7ee4d818",
   "metadata": {},
   "outputs": [],
   "source": [
    "api_service_name = \"youtube\"\n",
    "api_version = \"v3\"\n",
    "\n",
    "# Get credentials and create an API client\n",
    "youtube = build(\n",
    "    api_service_name, api_version, developerKey=api_key)"
   ]
  },
  {
   "cell_type": "code",
   "execution_count": 5,
   "id": "56860bb8-b330-494d-9e26-fb08a82b7089",
   "metadata": {},
   "outputs": [],
   "source": [
    "def get_channel_stats(youtube, channel_ids):\n",
    "    \n",
    "    all_data = []\n",
    "    request = youtube.channels().list(\n",
    "        part=\"snippet,contentDetails,statistics\",\n",
    "        id=','.join(channel_id)\n",
    "    )\n",
    "    response = request.execute()\n",
    "\n",
    "    # loop through items\n",
    "    for item in response['items']:\n",
    "        data = {'channelName': item['snippet']['title'],\n",
    "                'subscribers': item['statistics']['subscriberCount'],\n",
    "                'views': item['statistics']['viewCount'],\n",
    "                'totalVideos': item['statistics']['videoCount'],\n",
    "                'playlistId': item['contentDetails']['relatedPlaylists']['uploads']\n",
    "        }\n",
    "        \n",
    "        # Check if the channel has any subscriber milestone\n",
    "        if 'bulletin' in item['contentDetails']:\n",
    "            milestone = item['contentDetails']['bulletin']['resource']\n",
    "            if milestone['kind'] == 'youtube#subscription':\n",
    "                data['milestoneDate'] = milestone['publishedAt']\n",
    "                data['milestoneSubscribers'] = milestone['metadata']['subscriberCount']\n",
    "                \n",
    "        all_data.append(data)\n",
    "        \n",
    "    return(pd.DataFrame(all_data))"
   ]
  },
  {
   "cell_type": "code",
   "execution_count": 6,
   "id": "your_channel_id",
   "metadata": {},
   "outputs": [],
   "source": [
    "request = youtube.channels().list(\n",
    "    part=\"snippet,contentDetails,statistics\",\n",
    "    id=','.join(channel_id)\n",
    ")\n",
    "response = request.execute()\n",
    "# JSON(response)\n",
    "\n",
    "def get_channel_stats(response):\n",
    "    stats_df = pd.read_csv('/Users/gulecs/Desktop/youtube api/media_stats/media_stats.csv')\n",
    "    channel_stats = pd.DataFrame(data=stats_df[stats_df[\"channelName\"]==\"your_channel_name\"])\n",
    "\n",
    "    if \"items\" not in response.keys():\n",
    "        return channel_stats\n",
    "    else:\n",
    "        channel_stats = get_channel_stats(youtube, channel_id)\n",
    "        return channel_stats\n"
   ]
  },
  {
   "cell_type": "code",
   "execution_count": 7,
   "id": "88d985c8",
   "metadata": {},
   "outputs": [
    {
     "data": {
      "text/html": [
       "<div>\n",
       "<style scoped>\n",
       "    .dataframe tbody tr th:only-of-type {\n",
       "        vertical-align: middle;\n",
       "    }\n",
       "\n",
       "    .dataframe tbody tr th {\n",
       "        vertical-align: top;\n",
       "    }\n",
       "\n",
       "    .dataframe thead th {\n",
       "        text-align: right;\n",
       "    }\n",
       "</style>\n",
       "<table border=\"1\" class=\"dataframe\">\n",
       "  <thead>\n",
       "    <tr style=\"text-align: right;\">\n",
       "      <th></th>\n",
       "      <th>channelName</th>\n",
       "      <th>subscribers</th>\n",
       "      <th>views</th>\n",
       "      <th>totalVideos</th>\n",
       "      <th>playlistId</th>\n",
       "    </tr>\n",
       "  </thead>\n",
       "  <tbody>\n",
       "    <tr>\n",
       "      <th>0</th>\n",
       "      <td>A Haber</td>\n",
       "      <td>648000</td>\n",
       "      <td>355928460</td>\n",
       "      <td>34180</td>\n",
       "      <td>UUKQhfw-lzz0uKnE1fY1PsAA</td>\n",
       "    </tr>\n",
       "  </tbody>\n",
       "</table>\n",
       "</div>"
      ],
      "text/plain": [
       "  channelName  subscribers      views  totalVideos                playlistId\n",
       "0     A Haber       648000  355928460        34180  UUKQhfw-lzz0uKnE1fY1PsAA"
      ]
     },
     "execution_count": 7,
     "metadata": {},
     "output_type": "execute_result"
    }
   ],
   "source": [
    "channel_stats = get_channel_stats(response)\n",
    "channel_stats"
   ]
  },
  {
   "cell_type": "code",
   "execution_count": 8,
   "id": "512da213",
   "metadata": {},
   "outputs": [],
   "source": [
    "playlist_id = \"UUKQhfw-lzz0uKnE1fY1PsAA\"\n",
    "\n",
    "def get_video_ids(youtube, playlist_id):\n",
    "    \n",
    "    video_ids = []\n",
    "    \n",
    "    request = youtube.playlistItems().list(\n",
    "        part=\"snippet, contentDetails\",\n",
    "        playlistId=playlist_id,\n",
    "        maxResults = 50\n",
    "    )\n",
    "    response = request.execute()\n",
    "\n",
    "    for item in response['items']:\n",
    "        video_ids.append(item['contentDetails']['videoId'])\n",
    "        \n",
    "    next_page_token = response.get('nextPageToken')\n",
    "    while next_page_token is not None:\n",
    "        request = youtube.playlistItems().list(\n",
    "            part=\"snippet, contentDetails\",\n",
    "            playlistId=playlist_id,\n",
    "            maxResults = 50,\n",
    "            pageToken = next_page_token)\n",
    "   \n",
    "        response = request.execute()\n",
    "\n",
    "        for item in response['items']:\n",
    "            video_ids.append(item['contentDetails']['videoId'])\n",
    "\n",
    "        next_page_token = response.get('nextPageToken')\n",
    "\n",
    "    return video_ids"
   ]
  },
  {
   "cell_type": "code",
   "execution_count": 9,
   "id": "36d636aa",
   "metadata": {},
   "outputs": [],
   "source": [
    "# Get Video IDs\n",
    "video_ids=get_video_ids(youtube, playlist_id)"
   ]
  },
  {
   "cell_type": "code",
   "execution_count": 10,
   "id": "b4d3a8dc",
   "metadata": {},
   "outputs": [
    {
     "data": {
      "text/plain": [
       "19996"
      ]
     },
     "execution_count": 10,
     "metadata": {},
     "output_type": "execute_result"
    }
   ],
   "source": [
    "len(video_ids)"
   ]
  },
  {
   "cell_type": "code",
   "execution_count": 11,
   "id": "a8c72df8",
   "metadata": {
    "tags": []
   },
   "outputs": [],
   "source": [
    "def get_video_details(youtube, video_ids):\n",
    "\n",
    "    all_video_info = []\n",
    "\n",
    "    for i in range(0, len(video_ids), 50):\n",
    "        request = youtube.videos().list(\n",
    "            part=\"snippet, contentDetails, statistics\",\n",
    "            id=','.join(video_ids[i:i+50])\n",
    "        )\n",
    "        response = request.execute()\n",
    "\n",
    "        for video in response['items']:\n",
    "            stats_to_keep = {'snippet': ['channelTitle', 'title', 'description', 'tags', 'publishedAt'],\n",
    "                             'statistics': ['viewCount', 'likeCount', 'favouriteCount', 'commentCount'],\n",
    "                             'contentDetails': ['duration', 'definition', 'caption']\n",
    "                            }\n",
    "            video_info={}\n",
    "            video_info['video_id']=video['id']\n",
    "\n",
    "            for k in stats_to_keep.keys():\n",
    "                for v in stats_to_keep[k]:\n",
    "                    try:\n",
    "                        video_info[v] = video[k][v]\n",
    "                    except:\n",
    "                        video_info[v]=None\n",
    "\n",
    "            all_video_info.append(video_info)\n",
    "    \n",
    "    return pd.DataFrame(all_video_info)"
   ]
  },
  {
   "cell_type": "code",
   "execution_count": 12,
   "id": "70ed4e8f",
   "metadata": {
    "tags": []
   },
   "outputs": [],
   "source": [
    "# Get video details \n",
    "df = get_video_details(youtube, video_ids)"
   ]
  },
  {
   "cell_type": "markdown",
   "id": "2a0bf587",
   "metadata": {
    "tags": []
   },
   "source": [
    "## Data pre-processing"
   ]
  },
  {
   "cell_type": "code",
   "execution_count": 13,
   "id": "36c82be6-3f62-4b06-894c-3b44a3ae7bc6",
   "metadata": {},
   "outputs": [
    {
     "name": "stdout",
     "output_type": "stream",
     "text": [
      "<class 'pandas.core.frame.DataFrame'>\n",
      "RangeIndex: 19996 entries, 0 to 19995\n",
      "Data columns (total 13 columns):\n",
      " #   Column          Non-Null Count  Dtype \n",
      "---  ------          --------------  ----- \n",
      " 0   video_id        19996 non-null  object\n",
      " 1   channelTitle    19996 non-null  object\n",
      " 2   title           19996 non-null  object\n",
      " 3   description     19996 non-null  object\n",
      " 4   tags            19996 non-null  object\n",
      " 5   publishedAt     19996 non-null  object\n",
      " 6   viewCount       19996 non-null  object\n",
      " 7   likeCount       19996 non-null  object\n",
      " 8   favouriteCount  0 non-null      object\n",
      " 9   commentCount    19996 non-null  object\n",
      " 10  duration        19996 non-null  object\n",
      " 11  definition      19996 non-null  object\n",
      " 12  caption         19996 non-null  object\n",
      "dtypes: object(13)\n",
      "memory usage: 2.0+ MB\n"
     ]
    }
   ],
   "source": [
    "video_df = df.copy()\n",
    "video_df.info()"
   ]
  },
  {
   "cell_type": "code",
   "execution_count": 14,
   "id": "e2d9b18e",
   "metadata": {},
   "outputs": [],
   "source": [
    "# Publish day in the week\n",
    "video_df['publishedAt'] = video_df['publishedAt'].apply(lambda x: parser.parse(x)) \n",
    "video_df['pushblishDayName'] = video_df['publishedAt'].apply(lambda x: x.strftime(\"%A\"))\n",
    "\n",
    "# convert duration to seconds\n",
    "video_df['durationSecs'] = video_df['duration'].apply(lambda x: isodate.parse_duration(x))\n",
    "video_df['durationSecs'] = video_df['durationSecs'].astype('timedelta64[s]')\n",
    "\n",
    "# Create Month & Year columns\n",
    "video_df['Month'] = pd.to_datetime(video_df[\"publishedAt\"]).dt.strftime('%b')\n",
    "video_df['Year'] = pd.to_datetime(video_df['publishedAt']).dt.strftime('%b')\n",
    "video_df['Year'] = video_df['publishedAt'].dt.year\n",
    "\n",
    "video_df[\"durationMins\"] = (video_df[\"durationSecs\"]/60).round(2).astype(float)\n",
    "video_df[\"durationHours\"] = (video_df[\"durationMins\"]/60).round(2).astype(float)\n",
    "\n",
    "# Add tag count\n",
    "video_df['tagCount'] = video_df['tags'].apply(lambda x: 0 if x is None else len(x))"
   ]
  },
  {
   "cell_type": "code",
   "execution_count": 15,
   "id": "8f23cb75-5e06-4908-9220-8f6b013a1a5e",
   "metadata": {},
   "outputs": [],
   "source": [
    "# Convert invalid values to NaN\n",
    "video_df = video_df.replace({'viewCount': {'None': np.nan}, \n",
    "                              'likeCount': {'None': np.nan}, \n",
    "                              'commentCount': {'None': np.nan}})\n",
    "\n",
    "# Drop rows with NaN values\n",
    "video_df.dropna(subset=['viewCount', 'likeCount', 'commentCount'], inplace=True)\n",
    "\n",
    "# Convert columns to int type\n",
    "video_df = video_df.astype({\"viewCount\": int, \"likeCount\": int, \"commentCount\": int})"
   ]
  },
  {
   "cell_type": "code",
   "execution_count": 16,
   "id": "2c9e6dbb",
   "metadata": {},
   "outputs": [
    {
     "name": "stdout",
     "output_type": "stream",
     "text": [
      "<class 'pandas.core.frame.DataFrame'>\n",
      "RangeIndex: 19996 entries, 0 to 19995\n",
      "Data columns (total 20 columns):\n",
      " #   Column            Non-Null Count  Dtype                  \n",
      "---  ------            --------------  -----                  \n",
      " 0   video_id          19996 non-null  object                 \n",
      " 1   channelTitle      19996 non-null  object                 \n",
      " 2   title             19996 non-null  object                 \n",
      " 3   description       19996 non-null  object                 \n",
      " 4   tags              19996 non-null  object                 \n",
      " 5   publishedAt       19996 non-null  datetime64[ns, tzutc()]\n",
      " 6   viewCount         19996 non-null  int64                  \n",
      " 7   likeCount         19996 non-null  int64                  \n",
      " 8   favouriteCount    0 non-null      object                 \n",
      " 9   commentCount      19996 non-null  int64                  \n",
      " 10  duration          19996 non-null  object                 \n",
      " 11  definition        19996 non-null  object                 \n",
      " 12  caption           19996 non-null  object                 \n",
      " 13  pushblishDayName  19996 non-null  object                 \n",
      " 14  durationSecs      19996 non-null  float64                \n",
      " 15  Month             19996 non-null  object                 \n",
      " 16  Year              19996 non-null  int64                  \n",
      " 17  durationMins      19996 non-null  float64                \n",
      " 18  durationHours     19996 non-null  float64                \n",
      " 19  tagCount          19996 non-null  int64                  \n",
      "dtypes: datetime64[ns, tzutc()](1), float64(3), int64(5), object(11)\n",
      "memory usage: 3.1+ MB\n"
     ]
    }
   ],
   "source": [
    "video_df.info()"
   ]
  },
  {
   "cell_type": "code",
   "execution_count": 17,
   "id": "1d503216-6cce-40f2-805a-a90d55f2b014",
   "metadata": {},
   "outputs": [
    {
     "data": {
      "text/html": [
       "<div>\n",
       "<style scoped>\n",
       "    .dataframe tbody tr th:only-of-type {\n",
       "        vertical-align: middle;\n",
       "    }\n",
       "\n",
       "    .dataframe tbody tr th {\n",
       "        vertical-align: top;\n",
       "    }\n",
       "\n",
       "    .dataframe thead th {\n",
       "        text-align: right;\n",
       "    }\n",
       "</style>\n",
       "<table border=\"1\" class=\"dataframe\">\n",
       "  <thead>\n",
       "    <tr style=\"text-align: right;\">\n",
       "      <th></th>\n",
       "      <th>video_id</th>\n",
       "      <th>channelTitle</th>\n",
       "      <th>title</th>\n",
       "      <th>description</th>\n",
       "      <th>tags</th>\n",
       "      <th>publishedAt</th>\n",
       "      <th>viewCount</th>\n",
       "      <th>likeCount</th>\n",
       "      <th>favouriteCount</th>\n",
       "      <th>commentCount</th>\n",
       "      <th>duration</th>\n",
       "      <th>definition</th>\n",
       "      <th>caption</th>\n",
       "      <th>pushblishDayName</th>\n",
       "      <th>durationSecs</th>\n",
       "      <th>Month</th>\n",
       "      <th>Year</th>\n",
       "      <th>durationMins</th>\n",
       "      <th>durationHours</th>\n",
       "      <th>tagCount</th>\n",
       "    </tr>\n",
       "  </thead>\n",
       "  <tbody>\n",
       "    <tr>\n",
       "      <th>0</th>\n",
       "      <td>AQlHttfcbUA</td>\n",
       "      <td>A Haber</td>\n",
       "      <td>Başkan Erdoğan 11 Nisan'da ne açıklayacak? Kon...</td>\n",
       "      <td>A Haber’de yayınlanan ve yazar Melih Altınok’u...</td>\n",
       "      <td>[a haber, a haber tv, haber]</td>\n",
       "      <td>2023-03-27 22:30:01+00:00</td>\n",
       "      <td>177</td>\n",
       "      <td>10</td>\n",
       "      <td>None</td>\n",
       "      <td>0</td>\n",
       "      <td>PT14M41S</td>\n",
       "      <td>hd</td>\n",
       "      <td>false</td>\n",
       "      <td>Monday</td>\n",
       "      <td>881.0</td>\n",
       "      <td>Mar</td>\n",
       "      <td>2023</td>\n",
       "      <td>14.68</td>\n",
       "      <td>0.24</td>\n",
       "      <td>3</td>\n",
       "    </tr>\n",
       "    <tr>\n",
       "      <th>1</th>\n",
       "      <td>ouSCO25i6rU</td>\n",
       "      <td>A Haber</td>\n",
       "      <td>İnce'ye imza veren başörtülü kadınlar neden he...</td>\n",
       "      <td>A Haber’de yayınlanan ve yazar Melih Altınok’u...</td>\n",
       "      <td>[a haber, a haber tv, haber]</td>\n",
       "      <td>2023-03-27 22:00:23+00:00</td>\n",
       "      <td>364</td>\n",
       "      <td>22</td>\n",
       "      <td>None</td>\n",
       "      <td>0</td>\n",
       "      <td>PT18M15S</td>\n",
       "      <td>hd</td>\n",
       "      <td>false</td>\n",
       "      <td>Monday</td>\n",
       "      <td>1095.0</td>\n",
       "      <td>Mar</td>\n",
       "      <td>2023</td>\n",
       "      <td>18.25</td>\n",
       "      <td>0.30</td>\n",
       "      <td>3</td>\n",
       "    </tr>\n",
       "  </tbody>\n",
       "</table>\n",
       "</div>"
      ],
      "text/plain": [
       "      video_id channelTitle  \\\n",
       "0  AQlHttfcbUA      A Haber   \n",
       "1  ouSCO25i6rU      A Haber   \n",
       "\n",
       "                                               title  \\\n",
       "0  Başkan Erdoğan 11 Nisan'da ne açıklayacak? Kon...   \n",
       "1  İnce'ye imza veren başörtülü kadınlar neden he...   \n",
       "\n",
       "                                         description  \\\n",
       "0  A Haber’de yayınlanan ve yazar Melih Altınok’u...   \n",
       "1  A Haber’de yayınlanan ve yazar Melih Altınok’u...   \n",
       "\n",
       "                           tags               publishedAt  viewCount  \\\n",
       "0  [a haber, a haber tv, haber] 2023-03-27 22:30:01+00:00        177   \n",
       "1  [a haber, a haber tv, haber] 2023-03-27 22:00:23+00:00        364   \n",
       "\n",
       "   likeCount favouriteCount  commentCount  duration definition caption  \\\n",
       "0         10           None             0  PT14M41S         hd   false   \n",
       "1         22           None             0  PT18M15S         hd   false   \n",
       "\n",
       "  pushblishDayName  durationSecs Month  Year  durationMins  durationHours  \\\n",
       "0           Monday         881.0   Mar  2023         14.68           0.24   \n",
       "1           Monday        1095.0   Mar  2023         18.25           0.30   \n",
       "\n",
       "   tagCount  \n",
       "0         3  \n",
       "1         3  "
      ]
     },
     "execution_count": 17,
     "metadata": {},
     "output_type": "execute_result"
    }
   ],
   "source": [
    "video_df.head(2)"
   ]
  },
  {
   "cell_type": "code",
   "execution_count": 24,
   "id": "df49a733",
   "metadata": {
    "scrolled": true
   },
   "outputs": [
    {
     "name": "stdout",
     "output_type": "stream",
     "text": [
      "['channelTitle', 'title', 'publishedAt', 'viewCount', 'likeCount', 'commentCount', 'pushblishDayName', 'durationSecs', 'Month', 'Year', 'durationMins', 'durationHours']\n"
     ]
    }
   ],
   "source": [
    "column_names = video_df.columns.values.tolist()\n",
    "columns_removed = [\"favouriteCount\",\"caption\",\"duration\",\"definition\",\"video_id\",\"tags\", \"description\",\"tagCount\"]\n",
    "\n",
    "# video_df = video_df.drop([\"favouriteCount\",\"caption\",\"definition\",\"video_id\",\"duration\"], axis=1, inplace = True)\n",
    "\n",
    "# create new list using list comprehension\n",
    "column_names = [i for i in column_names if i not in columns_removed]\n",
    "\n",
    "print(column_names)"
   ]
  },
  {
   "cell_type": "code",
   "execution_count": 25,
   "id": "d12601c2-ad2a-4911-bca1-084e5e1e70f1",
   "metadata": {},
   "outputs": [
    {
     "name": "stdout",
     "output_type": "stream",
     "text": [
      "Directory  /Users/gulecs/Desktop/youtube api/media_stats/a_haber  already exists\n",
      "Directory  /Users/gulecs/Desktop/youtube api/media_stats/a_haber  already exists\n"
     ]
    }
   ],
   "source": [
    "file_name = video_df[\"channelTitle\"].unique().tolist()\n",
    "joined = ('_or_').join(file_name).replace(' ', '_').lower()\n",
    "\n",
    "# Create directory\n",
    "dirName = f\"/Users/gulecs/Desktop/youtube api/media_stats/{joined}\"\n",
    "\n",
    "# Create target Directory if don't exist\n",
    "if not os.path.exists(dirName):\n",
    "    os.mkdir(dirName)\n",
    "    print(\"Directory \" , dirName ,  \" Created \")\n",
    "else:    \n",
    "    print(\"Directory \" , dirName ,  \" already exists\")\n",
    "\n",
    "try:\n",
    "    # Create target Directory\n",
    "    os.mkdir(dirName)\n",
    "    print(\"Directory \" , dirName ,  \" Created \") \n",
    "except FileExistsError:\n",
    "    print(\"Directory \" , dirName ,  \" already exists\")"
   ]
  },
  {
   "cell_type": "code",
   "execution_count": 28,
   "id": "33de602f",
   "metadata": {
    "tags": []
   },
   "outputs": [],
   "source": [
    "# video_df[\"title\"] = video_df[\"title\"].str.replace(\"#shorts\",\"\")\n",
    "\n",
    "path = f\"/Users/gulecs/Desktop/youtube api/media_stats/{joined}/stats_{joined}.csv\"\n",
    "video_df.to_csv(path, index=False, columns=column_names)"
   ]
  },
  {
   "cell_type": "code",
   "execution_count": 29,
   "id": "673b5dac",
   "metadata": {
    "tags": []
   },
   "outputs": [],
   "source": [
    "video_df_before =video_df[video_df[\"publishedAt\"]< \"2023-02-06\"]\n",
    "\n",
    "path2= f\"/Users/gulecs/Desktop/youtube api/media_stats/{joined}/{joined}_b4.csv\"\n",
    "video_df_before.to_csv(path2, index=False, columns=column_names)"
   ]
  },
  {
   "cell_type": "code",
   "execution_count": 30,
   "id": "b350c1fe",
   "metadata": {},
   "outputs": [],
   "source": [
    "video_df_after =video_df[video_df[\"publishedAt\"]>= \"2023-02-06\"]\n",
    "\n",
    "path3= f\"/Users/gulecs/Desktop/youtube api/media_stats/{joined}/{joined}_aft.csv\"\n",
    "video_df_after.to_csv(path3, index=False, columns=column_names)"
   ]
  },
  {
   "cell_type": "markdown",
   "id": "27e0b6fc-b1b1-455a-9ed2-252967fabf7b",
   "metadata": {
    "tags": []
   },
   "source": [
    "## Feature Engineering"
   ]
  },
  {
   "cell_type": "markdown",
   "id": "7e0f72b4-34c9-48ba-8df5-c42a559f7e3c",
   "metadata": {
    "tags": []
   },
   "source": [
    "### Ratios"
   ]
  },
  {
   "cell_type": "code",
   "execution_count": 31,
   "id": "75112793-932d-4491-afd4-b19ab57805a4",
   "metadata": {},
   "outputs": [
    {
     "data": {
      "text/html": [
       "<div>\n",
       "<style scoped>\n",
       "    .dataframe tbody tr th:only-of-type {\n",
       "        vertical-align: middle;\n",
       "    }\n",
       "\n",
       "    .dataframe tbody tr th {\n",
       "        vertical-align: top;\n",
       "    }\n",
       "\n",
       "    .dataframe thead th {\n",
       "        text-align: right;\n",
       "    }\n",
       "</style>\n",
       "<table border=\"1\" class=\"dataframe\">\n",
       "  <thead>\n",
       "    <tr style=\"text-align: right;\">\n",
       "      <th></th>\n",
       "      <th>channelName</th>\n",
       "      <th>subscribers</th>\n",
       "      <th>views</th>\n",
       "      <th>totalVideos</th>\n",
       "      <th>playlistId</th>\n",
       "    </tr>\n",
       "  </thead>\n",
       "  <tbody>\n",
       "    <tr>\n",
       "      <th>0</th>\n",
       "      <td>A Haber</td>\n",
       "      <td>648000</td>\n",
       "      <td>355928460</td>\n",
       "      <td>34180</td>\n",
       "      <td>UUKQhfw-lzz0uKnE1fY1PsAA</td>\n",
       "    </tr>\n",
       "  </tbody>\n",
       "</table>\n",
       "</div>"
      ],
      "text/plain": [
       "  channelName  subscribers      views  totalVideos                playlistId\n",
       "0     A Haber       648000  355928460        34180  UUKQhfw-lzz0uKnE1fY1PsAA"
      ]
     },
     "execution_count": 31,
     "metadata": {},
     "output_type": "execute_result"
    }
   ],
   "source": [
    "channel_stats"
   ]
  },
  {
   "cell_type": "code",
   "execution_count": 32,
   "id": "a9279f9c-9cf0-4f95-8b9d-407891a1b1c3",
   "metadata": {},
   "outputs": [],
   "source": [
    "# Video subscribers/video ratio\n",
    "channel_stats[\"subscribers_per_video\"] = round((channel_stats[\"subscribers\"])/(channel_stats[\"totalVideos\"]),0)\n",
    "\n",
    "# Video view/video ratio\n",
    "channel_stats[\"view_per_video\"] = round((channel_stats[\"views\"])/channel_stats[\"totalVideos\"],0)"
   ]
  },
  {
   "cell_type": "code",
   "execution_count": 34,
   "id": "bc5f8239-bf7e-485d-bc00-e748fe1cecc0",
   "metadata": {},
   "outputs": [
    {
     "name": "stdout",
     "output_type": "stream",
     "text": [
      "Current Month with Decimal Number : 3\n"
     ]
    }
   ],
   "source": [
    "today = datetime.now()\n",
    "current_month = int(today.strftime(\"%m\"))\n",
    "print(\"Current Month with Decimal Number :\", current_month);"
   ]
  },
  {
   "cell_type": "markdown",
   "id": "d9bc7a95-b305-4f4f-b40d-134b1669113b",
   "metadata": {
    "tags": []
   },
   "source": [
    "#### Total - Monthly Video Uploads after"
   ]
  },
  {
   "cell_type": "code",
   "execution_count": 35,
   "id": "fc15ee09-b54b-420b-ac10-9a68969defb3",
   "metadata": {},
   "outputs": [
    {
     "data": {
      "text/html": [
       "<div>\n",
       "<style scoped>\n",
       "    .dataframe tbody tr th:only-of-type {\n",
       "        vertical-align: middle;\n",
       "    }\n",
       "\n",
       "    .dataframe tbody tr th {\n",
       "        vertical-align: top;\n",
       "    }\n",
       "\n",
       "    .dataframe thead th {\n",
       "        text-align: right;\n",
       "    }\n",
       "</style>\n",
       "<table border=\"1\" class=\"dataframe\">\n",
       "  <thead>\n",
       "    <tr style=\"text-align: right;\">\n",
       "      <th></th>\n",
       "      <th>Month</th>\n",
       "      <th>monthly_video_count_after</th>\n",
       "    </tr>\n",
       "  </thead>\n",
       "  <tbody>\n",
       "    <tr>\n",
       "      <th>0</th>\n",
       "      <td>Feb</td>\n",
       "      <td>706</td>\n",
       "    </tr>\n",
       "    <tr>\n",
       "      <th>1</th>\n",
       "      <td>Mar</td>\n",
       "      <td>620</td>\n",
       "    </tr>\n",
       "  </tbody>\n",
       "</table>\n",
       "</div>"
      ],
      "text/plain": [
       "  Month  monthly_video_count_after\n",
       "0   Feb                        706\n",
       "1   Mar                        620"
      ]
     },
     "execution_count": 35,
     "metadata": {},
     "output_type": "execute_result"
    }
   ],
   "source": [
    "video_after_per_month = video_df_after.groupby('Month', as_index =False).size()\n",
    "sort_order=['Jan','Feb','Mar','Apr','May','Jun','Jul','Aug','Sep','Oct','Nov','Dec',]\n",
    "video_after_per_month.index = pd.CategoricalIndex(video_after_per_month['Month'], categories = sort_order, ordered= True)\n",
    "\n",
    "video_after_per_month.reset_index(drop=True, inplace=True)\n",
    "video_after_per_month = video_after_per_month.rename(columns={'size': 'monthly_video_count_after'})\n",
    "video_after_per_month"
   ]
  },
  {
   "cell_type": "markdown",
   "id": "d40e7de8-5611-473f-977b-54669406af99",
   "metadata": {
    "tags": []
   },
   "source": [
    "#### Total - Upload Mins after"
   ]
  },
  {
   "cell_type": "code",
   "execution_count": 36,
   "id": "5d38156a-e33c-4f88-b5f8-5a0ba92282a1",
   "metadata": {},
   "outputs": [
    {
     "data": {
      "text/html": [
       "<div>\n",
       "<style scoped>\n",
       "    .dataframe tbody tr th:only-of-type {\n",
       "        vertical-align: middle;\n",
       "    }\n",
       "\n",
       "    .dataframe tbody tr th {\n",
       "        vertical-align: top;\n",
       "    }\n",
       "\n",
       "    .dataframe thead th {\n",
       "        text-align: right;\n",
       "    }\n",
       "</style>\n",
       "<table border=\"1\" class=\"dataframe\">\n",
       "  <thead>\n",
       "    <tr style=\"text-align: right;\">\n",
       "      <th></th>\n",
       "      <th>Month</th>\n",
       "      <th>monthly_video_count_after</th>\n",
       "      <th>mins_after_per_month</th>\n",
       "    </tr>\n",
       "  </thead>\n",
       "  <tbody>\n",
       "    <tr>\n",
       "      <th>0</th>\n",
       "      <td>Feb</td>\n",
       "      <td>706</td>\n",
       "      <td>4132.96</td>\n",
       "    </tr>\n",
       "    <tr>\n",
       "      <th>1</th>\n",
       "      <td>Mar</td>\n",
       "      <td>620</td>\n",
       "      <td>5425.63</td>\n",
       "    </tr>\n",
       "  </tbody>\n",
       "</table>\n",
       "</div>"
      ],
      "text/plain": [
       "  Month  monthly_video_count_after  mins_after_per_month\n",
       "0   Feb                        706               4132.96\n",
       "1   Mar                        620               5425.63"
      ]
     },
     "execution_count": 36,
     "metadata": {},
     "output_type": "execute_result"
    }
   ],
   "source": [
    "mins_after_per_month = video_df_after.groupby([\"Year\",\"Month\"])['durationMins'].sum().unstack(level='Year').replace('nan', np.nan).fillna(0)\n",
    "mins_after_per_month = pd.DataFrame(data=mins_after_per_month).reset_index().set_axis(['Month', 'mins_after_per_month'], axis=1)\n",
    "mins_after_per_month\n",
    "\n",
    "merged_df1 = video_after_per_month.merge(mins_after_per_month, left_on='Month', right_on='Month')\n",
    "merged_df1"
   ]
  },
  {
   "cell_type": "markdown",
   "id": "ba8bbe7e-25c3-45d2-83ee-31ac8d7eebad",
   "metadata": {
    "jp-MarkdownHeadingCollapsed": true,
    "tags": []
   },
   "source": [
    "##### Averages - Video upload mins !"
   ]
  },
  {
   "cell_type": "code",
   "execution_count": null,
   "id": "510aa362-b2c2-46a6-824a-525724e8a88e",
   "metadata": {},
   "outputs": [],
   "source": [
    "# Monthly AVG video upload Mins\n",
    "\n",
    "# monthly_mins = video_df.groupby([\"Year\",\"Month\"])['durationMins'].sum().unstack(level='Year').replace('nan', np.nan).fillna(0)\n",
    "\n",
    "# avg_mins_monthly = round(monthly_mins.mean(axis=0).to_frame().reset_index().set_axis(['Year', 'avg_mins_monthly'], axis=1),1)\n",
    "\n",
    "# avg_mins_monthly_after = pd.DataFrame(data=avg_mins_monthly.loc[len(avg_mins_monthly)-1]).T\n",
    "# avg_mins_monthly_after = round(avg_mins_monthly_after[\"avg_mins_monthly\"].mean(),1)\n",
    "# avg_mins_monthly_after\n",
    "\n",
    "# avg_mins_monthly.loc[len(avg_mins_monthly)-2:,1:] = avg_mins_monthly*12/current_month\n",
    "\n",
    "# avg_monthly_total_mins = int(round(avg_mins_monthly[\"avg_mins_monthly\"].mean(),1))\n",
    "\n",
    "# avg_mins_monthly.loc[len(avg_mins_monthly.index)] = ['Total', avg_monthly_total_mins]\n",
    "# avg_mins_monthly"
   ]
  },
  {
   "cell_type": "code",
   "execution_count": null,
   "id": "c377df2e-b25f-4712-8802-77aeb8f512aa",
   "metadata": {},
   "outputs": [],
   "source": [
    "# Monthly AVG video upload Mins after 6th of Feb, 2023\n",
    "\n",
    "# avg_mins_monthly_after = pd.DataFrame(data=avg_mins_monthly.loc[len(avg_mins_monthly)-2]).T\n",
    "# avg_mins_monthly_after = int(round(avg_mins_monthly_after[\"avg_mins_monthly\"].mean(),1))\n",
    "\n",
    "# Monthly AVG video upload Mins before 6th of Feb, 2023\n",
    "\n",
    "# avg_mins_monthly_before = avg_mins_monthly.drop([df.index[len(avg_mins_monthly)-2], df.index[len(avg_mins_monthly)-1]])\n",
    "\n",
    "# avg_monthly_total_mins_before = int(round(avg_mins_monthly_before[\"avg_mins_monthly\"].mean(),1))"
   ]
  },
  {
   "cell_type": "code",
   "execution_count": null,
   "id": "8dc91f62-2ee6-48a1-b0d0-b3260ccc277e",
   "metadata": {},
   "outputs": [],
   "source": [
    "# Yearly AVG video upload Mins before 6th of Feb, 2023\n",
    "\n",
    "# yearly_mins = video_df.groupby([\"Year\"])['durationMins'].sum()\n",
    "\n",
    "# avg_mins_yearly = yearly_mins.to_frame().reset_index().set_axis(['Year', 'avg_mins_yearly'], axis=1)\n",
    "# avg_mins_yearly_after = pd.DataFrame(data=avg_mins_yearly.loc[2]).T\n",
    "# avg_mins_yearly_after = round(avg_mins_yearly_after[\"avg_mins_yearly\"].mean(),1)\n",
    "# avg_mins_yearly_after\n",
    "\n",
    "# avg_mins_yearly.loc[len(avg_mins_yearly).index] = ['Total', avg_total_mins]\n",
    "# # avg_mins_yearly.loc[len(avg_mins_yearly)-1.index]\n",
    "# avg_mins_yearly.loc[2:2]"
   ]
  },
  {
   "cell_type": "markdown",
   "id": "1949e9a8-82b5-4297-8743-f2fa64eb5af1",
   "metadata": {
    "tags": []
   },
   "source": [
    "#### Total - Video likes after"
   ]
  },
  {
   "cell_type": "code",
   "execution_count": 37,
   "id": "c46b6a4e-fad6-40dc-bf29-da31245bdea1",
   "metadata": {},
   "outputs": [
    {
     "data": {
      "text/html": [
       "<div>\n",
       "<style scoped>\n",
       "    .dataframe tbody tr th:only-of-type {\n",
       "        vertical-align: middle;\n",
       "    }\n",
       "\n",
       "    .dataframe tbody tr th {\n",
       "        vertical-align: top;\n",
       "    }\n",
       "\n",
       "    .dataframe thead th {\n",
       "        text-align: right;\n",
       "    }\n",
       "</style>\n",
       "<table border=\"1\" class=\"dataframe\">\n",
       "  <thead>\n",
       "    <tr style=\"text-align: right;\">\n",
       "      <th></th>\n",
       "      <th>Month</th>\n",
       "      <th>monthly_video_count_after</th>\n",
       "      <th>mins_after_per_month</th>\n",
       "      <th>likes_after_per_month</th>\n",
       "    </tr>\n",
       "  </thead>\n",
       "  <tbody>\n",
       "    <tr>\n",
       "      <th>0</th>\n",
       "      <td>Feb</td>\n",
       "      <td>706</td>\n",
       "      <td>4132.96</td>\n",
       "      <td>146226</td>\n",
       "    </tr>\n",
       "    <tr>\n",
       "      <th>1</th>\n",
       "      <td>Mar</td>\n",
       "      <td>620</td>\n",
       "      <td>5425.63</td>\n",
       "      <td>107901</td>\n",
       "    </tr>\n",
       "  </tbody>\n",
       "</table>\n",
       "</div>"
      ],
      "text/plain": [
       "  Month  monthly_video_count_after  mins_after_per_month  \\\n",
       "0   Feb                        706               4132.96   \n",
       "1   Mar                        620               5425.63   \n",
       "\n",
       "   likes_after_per_month  \n",
       "0                 146226  \n",
       "1                 107901  "
      ]
     },
     "execution_count": 37,
     "metadata": {},
     "output_type": "execute_result"
    }
   ],
   "source": [
    "likes_after_per_month = video_df_after.groupby([\"Year\",\"Month\"])['likeCount'].sum().unstack(level='Year').replace('nan', np.nan).fillna(0)\n",
    "likes_after_per_month = pd.DataFrame(data=likes_after_per_month).reset_index().set_axis(['Month', 'likes_after_per_month'], axis=1)\n",
    "likes_after_per_month\n",
    "\n",
    "merged_df2 = merged_df1.merge(likes_after_per_month, left_on='Month', right_on='Month')\n",
    "merged_df2"
   ]
  },
  {
   "cell_type": "markdown",
   "id": "03b1f8a1-21c2-46ee-9cce-b2b96530dab0",
   "metadata": {
    "jp-MarkdownHeadingCollapsed": true,
    "tags": []
   },
   "source": [
    "##### Averages - Video likes !"
   ]
  },
  {
   "cell_type": "code",
   "execution_count": null,
   "id": "62117005-2148-4756-9788-ac0c2c8ebaa9",
   "metadata": {},
   "outputs": [],
   "source": [
    "# Monthly AVG video likes\n",
    "\n",
    "# monthly_likes = video_df.groupby([\"Year\",\"Month\"])['likeCount'].sum().unstack(level='Year').replace('nan', np.nan).fillna(0)\n",
    "# avg_likes_monthly = round(monthly_likes.mean(axis=0).to_frame().reset_index().set_axis(['Year', 'avg_likes_monthly'], axis=1),1)\n",
    "# avg_likes_monthly.loc[len(avg_likes_monthly)-2:,1:] = avg_likes_monthly*12/current_month\n",
    "# avg_likes_monthly\n"
   ]
  },
  {
   "cell_type": "code",
   "execution_count": null,
   "id": "fe18edaa-b38d-49de-be9b-ef19f272f56d",
   "metadata": {},
   "outputs": [],
   "source": [
    "# Monthly AVG video likes after 6th of Feb, 2023\n",
    "\n",
    "# avg_likes_monthly_after = pd.DataFrame(data=avg_likes_monthly.loc[len(avg_likes_monthly)-2]).T\n",
    "# avg_likes_monthly_after = int(round(avg_likes_monthly_after[\"avg_likes_monthly\"].mean(),1))\n",
    "# avg_likes_monthly_after"
   ]
  },
  {
   "cell_type": "code",
   "execution_count": null,
   "id": "6e848ba4-1e48-46a7-bb90-6913490ab3ce",
   "metadata": {},
   "outputs": [],
   "source": [
    "# Monthly AVG video likes before 6th of Feb, 2023\n",
    "\n",
    "# avg_likes_monthly_before = avg_likes_monthly.drop([df.index[len(avg_likes_monthly)-2], df.index[len(avg_likes_monthly)-1]])\n",
    "\n",
    "# avg_monthly_total_likes_before = int(round(avg_likes_monthly_before[\"avg_likes_monthly\"].mean(),1))\n",
    "# avg_monthly_total_likes_before"
   ]
  },
  {
   "cell_type": "code",
   "execution_count": null,
   "id": "425a1267-ebe8-4be1-becd-68e2285a0b1c",
   "metadata": {},
   "outputs": [],
   "source": [
    "# Yearly AVG video likes before 6th of Feb, 2023\n",
    "\n",
    "# yearly_likes = video_df.groupby([\"Year\"])['likeCount'].sum()\n",
    "\n",
    "# avg_likes_yearly = yearly_likes.to_frame().reset_index().set_axis(['Year', 'avg_likes_yearly'], axis=1)\n",
    "\n",
    "# avg_total_likes = int(round(avg_likes_yearly[\"avg_likes_yearly\"].mean(),0))\n",
    "\n",
    "# avg_likes_yearly.loc[len(avg_likes_yearly.index)] = ['Total', avg_total_likes]\n",
    "# avg_likes_yearly"
   ]
  },
  {
   "cell_type": "markdown",
   "id": "dc89e86a-4d1b-44ce-843c-d3146b65790b",
   "metadata": {
    "tags": []
   },
   "source": [
    "#### Total Video views after"
   ]
  },
  {
   "cell_type": "code",
   "execution_count": 38,
   "id": "2a568e01-43db-47aa-bada-5fa17c84b631",
   "metadata": {},
   "outputs": [
    {
     "data": {
      "text/html": [
       "<div>\n",
       "<style scoped>\n",
       "    .dataframe tbody tr th:only-of-type {\n",
       "        vertical-align: middle;\n",
       "    }\n",
       "\n",
       "    .dataframe tbody tr th {\n",
       "        vertical-align: top;\n",
       "    }\n",
       "\n",
       "    .dataframe thead th {\n",
       "        text-align: right;\n",
       "    }\n",
       "</style>\n",
       "<table border=\"1\" class=\"dataframe\">\n",
       "  <thead>\n",
       "    <tr style=\"text-align: right;\">\n",
       "      <th></th>\n",
       "      <th>Month</th>\n",
       "      <th>monthly_video_count_after</th>\n",
       "      <th>mins_after_per_month</th>\n",
       "      <th>likes_after_per_month</th>\n",
       "      <th>views_after_per_month</th>\n",
       "    </tr>\n",
       "  </thead>\n",
       "  <tbody>\n",
       "    <tr>\n",
       "      <th>0</th>\n",
       "      <td>Feb</td>\n",
       "      <td>706</td>\n",
       "      <td>4132.96</td>\n",
       "      <td>146226</td>\n",
       "      <td>10757723</td>\n",
       "    </tr>\n",
       "    <tr>\n",
       "      <th>1</th>\n",
       "      <td>Mar</td>\n",
       "      <td>620</td>\n",
       "      <td>5425.63</td>\n",
       "      <td>107901</td>\n",
       "      <td>8356699</td>\n",
       "    </tr>\n",
       "  </tbody>\n",
       "</table>\n",
       "</div>"
      ],
      "text/plain": [
       "  Month  monthly_video_count_after  mins_after_per_month  \\\n",
       "0   Feb                        706               4132.96   \n",
       "1   Mar                        620               5425.63   \n",
       "\n",
       "   likes_after_per_month  views_after_per_month  \n",
       "0                 146226               10757723  \n",
       "1                 107901                8356699  "
      ]
     },
     "execution_count": 38,
     "metadata": {},
     "output_type": "execute_result"
    }
   ],
   "source": [
    "views_after_per_month = video_df_after.groupby([\"Year\",\"Month\"])['viewCount'].sum().unstack(level='Year').replace('nan', np.nan).fillna(0)\n",
    "views_after_per_month = pd.DataFrame(data=views_after_per_month).reset_index().set_axis(['Month', 'views_after_per_month'], axis=1)\n",
    "views_after_per_month\n",
    "\n",
    "merged_df3 = merged_df2.merge(views_after_per_month, left_on='Month', right_on='Month')\n",
    "merged_df3"
   ]
  },
  {
   "cell_type": "markdown",
   "id": "79406732-b1cb-47b3-8f10-bf07e5221e98",
   "metadata": {
    "jp-MarkdownHeadingCollapsed": true,
    "tags": []
   },
   "source": [
    "##### Averages - Video views !"
   ]
  },
  {
   "cell_type": "code",
   "execution_count": null,
   "id": "f6efd12b-f761-482e-9ec4-c1e2a7c0cd82",
   "metadata": {},
   "outputs": [],
   "source": [
    "# Monthly AVG video views\n",
    "\n",
    "# monthly_views = video_df.groupby([\"Year\",\"Month\"])['viewCount'].sum().unstack(level='Year').replace('nan', np.nan).fillna(0)\n",
    "# avg_views_monthly = round(monthly_views.mean(axis=0).to_frame().reset_index().set_axis(['Year', 'avg_views_monthly'], axis=1),1)\n",
    "# avg_views_monthly.loc[len(avg_views_monthly)-2:,1:] = avg_views_monthly*12/current_month\n",
    "\n",
    "# avg_monthly_total_views = int(round(avg_views_monthly[\"avg_views_monthly\"].mean(),1))\n",
    "\n",
    "# avg_views_monthly.loc[len(avg_views_monthly.index)] = ['Total', avg_monthly_total_views]\n",
    "# avg_views_monthly"
   ]
  },
  {
   "cell_type": "code",
   "execution_count": null,
   "id": "505649af-aa8a-4fbc-9cfc-2b961cc77c77",
   "metadata": {},
   "outputs": [],
   "source": [
    "# Monthly AVG video views after 6th of Feb, 2023\n",
    "\n",
    "# avg_views_monthly_after = pd.DataFrame(data=avg_views_monthly.loc[len(avg_views_monthly)-2]).T\n",
    "# avg_views_monthly_after = int(round(avg_views_monthly_after[\"avg_views_monthly\"].mean(),1))\n",
    "# avg_views_monthly_after"
   ]
  },
  {
   "cell_type": "code",
   "execution_count": null,
   "id": "6471d478-e5d9-46cc-88d1-15628ab7ac09",
   "metadata": {},
   "outputs": [],
   "source": [
    "# Monthly AVG video views before 6th of Feb, 2023\n",
    "\n",
    "# avg_views_monthly_before = avg_views_monthly.drop([df.index[len(avg_views_monthly)-2], df.index[len(avg_views_monthly)-1]])\n",
    "\n",
    "# avg_monthly_total_views_before = int(round(avg_views_monthly_before[\"avg_views_monthly\"].mean(),1))\n",
    "# avg_monthly_total_views_before"
   ]
  },
  {
   "cell_type": "code",
   "execution_count": null,
   "id": "d25e6eba-bb7f-4650-abd8-2a9348f0e537",
   "metadata": {},
   "outputs": [],
   "source": [
    "# Yearly AVG video views before 6th of Feb, 2023\n",
    "\n",
    "# yearly_views = video_df.groupby([\"Year\"])['viewCount'].sum()\n",
    "\n",
    "# avg_views_yearly = yearly_views.to_frame().reset_index().set_axis(['Year', 'avg_views_yearly'], axis=1)\n",
    "\n",
    "# avg_total_views = int(round(avg_views_yearly[\"avg_views_yearly\"].mean(),0))\n",
    "\n",
    "# avg_views_yearly.loc[len(avg_views_yearly.index)] = ['Total', avg_total_views]\n",
    "# avg_views_yearly"
   ]
  },
  {
   "cell_type": "markdown",
   "id": "feac1650-c9d8-4043-be64-e3eb9fb63a0f",
   "metadata": {
    "tags": []
   },
   "source": [
    "#### Total - Video comments after"
   ]
  },
  {
   "cell_type": "code",
   "execution_count": 39,
   "id": "ee9f611e-95a1-44b9-83f6-c07f70ddcd3d",
   "metadata": {},
   "outputs": [
    {
     "data": {
      "text/html": [
       "<div>\n",
       "<style scoped>\n",
       "    .dataframe tbody tr th:only-of-type {\n",
       "        vertical-align: middle;\n",
       "    }\n",
       "\n",
       "    .dataframe tbody tr th {\n",
       "        vertical-align: top;\n",
       "    }\n",
       "\n",
       "    .dataframe thead th {\n",
       "        text-align: right;\n",
       "    }\n",
       "</style>\n",
       "<table border=\"1\" class=\"dataframe\">\n",
       "  <thead>\n",
       "    <tr style=\"text-align: right;\">\n",
       "      <th></th>\n",
       "      <th>Month</th>\n",
       "      <th>monthly_video_count_after</th>\n",
       "      <th>mins_after_per_month</th>\n",
       "      <th>likes_after_per_month</th>\n",
       "      <th>views_after_per_month</th>\n",
       "      <th>comments_after_per_month</th>\n",
       "    </tr>\n",
       "  </thead>\n",
       "  <tbody>\n",
       "    <tr>\n",
       "      <th>0</th>\n",
       "      <td>Feb</td>\n",
       "      <td>706</td>\n",
       "      <td>4132.96</td>\n",
       "      <td>146226</td>\n",
       "      <td>10757723</td>\n",
       "      <td>15643</td>\n",
       "    </tr>\n",
       "    <tr>\n",
       "      <th>1</th>\n",
       "      <td>Mar</td>\n",
       "      <td>620</td>\n",
       "      <td>5425.63</td>\n",
       "      <td>107901</td>\n",
       "      <td>8356699</td>\n",
       "      <td>23378</td>\n",
       "    </tr>\n",
       "  </tbody>\n",
       "</table>\n",
       "</div>"
      ],
      "text/plain": [
       "  Month  monthly_video_count_after  mins_after_per_month  \\\n",
       "0   Feb                        706               4132.96   \n",
       "1   Mar                        620               5425.63   \n",
       "\n",
       "   likes_after_per_month  views_after_per_month  comments_after_per_month  \n",
       "0                 146226               10757723                     15643  \n",
       "1                 107901                8356699                     23378  "
      ]
     },
     "execution_count": 39,
     "metadata": {},
     "output_type": "execute_result"
    }
   ],
   "source": [
    "comments_after_per_month = video_df_after.groupby([\"Year\",\"Month\"])['commentCount'].sum().unstack(level='Year').replace('nan', np.nan).fillna(0)\n",
    "comments_after_per_month = pd.DataFrame(data=comments_after_per_month).reset_index().set_axis(['Month', 'comments_after_per_month'], axis=1)\n",
    "comments_after_per_month\n",
    "\n",
    "merged_df4 = merged_df3.merge(comments_after_per_month, left_on='Month', right_on='Month')\n",
    "merged_df4"
   ]
  },
  {
   "cell_type": "markdown",
   "id": "40e526a7-9368-427a-ba7d-44d5bfb301b8",
   "metadata": {
    "jp-MarkdownHeadingCollapsed": true,
    "tags": []
   },
   "source": [
    "##### Averages - comments !"
   ]
  },
  {
   "cell_type": "code",
   "execution_count": null,
   "id": "64c868d8-829a-4d6a-9f03-7cd8fc354691",
   "metadata": {},
   "outputs": [],
   "source": [
    "# Monthly AVG video comments\n",
    "\n",
    "# monthly_comments = video_df.groupby([\"Year\",\"Month\"])['commentCount'].sum().unstack(level='Year').replace('nan', np.nan).fillna(0)\n",
    "# avg_comments_monthly = round(monthly_comments.mean(axis=0).to_frame().reset_index().set_axis(['Year', 'avg_comments_monthly'], axis=1),1)\n",
    "# avg_comments_monthly.loc[len(avg_comments_monthly)-2:,1:] = avg_comments_monthly*12/current_month\n",
    "\n",
    "# avg_monthly_total_comments = int(round(avg_comments_monthly[\"avg_comments_monthly\"].mean(),1))\n",
    "\n",
    "# avg_comments_monthly.loc[len(avg_comments_monthly.index)] = ['Total', avg_monthly_total_comments]\n",
    "# avg_comments_monthly"
   ]
  },
  {
   "cell_type": "code",
   "execution_count": null,
   "id": "855b87b0-eae0-4db0-833a-3a6efbefa0be",
   "metadata": {},
   "outputs": [],
   "source": [
    "# Monthly AVG video comments after 6th of Feb, 2023\n",
    "\n",
    "# avg_comments_monthly_after = pd.DataFrame(data=avg_comments_monthly.loc[len(avg_comments_monthly)-2]).T\n",
    "# avg_comments_monthly_after = int(round(avg_comments_monthly_after[\"avg_comments_monthly\"].mean(),1))\n",
    "# avg_comments_monthly_after"
   ]
  },
  {
   "cell_type": "code",
   "execution_count": null,
   "id": "ed9fe9a4-475a-4277-acda-6833c23d378f",
   "metadata": {},
   "outputs": [],
   "source": [
    "# Monthly AVG video comments before 6th of Feb, 2023\n",
    "\n",
    "# avg_comments_monthly_before = avg_comments_monthly.drop([df.index[len(avg_comments_monthly)-2], df.index[len(avg_comments_monthly)-1]])\n",
    "\n",
    "# avg_monthly_total_comments_before = int(round(avg_comments_monthly_before[\"avg_comments_monthly\"].mean(),1))\n",
    "# avg_monthly_total_comments_before"
   ]
  },
  {
   "cell_type": "code",
   "execution_count": null,
   "id": "3970c058-e8aa-4ca4-9de2-bb542d726764",
   "metadata": {},
   "outputs": [],
   "source": [
    "# Yearly AVG video comments before 6th of Feb, 2023\n",
    "\n",
    "# yearly_comments = video_df.groupby([\"Year\"])['commentCount'].sum()\n",
    "\n",
    "# avg_comments_yearly = yearly_comments.to_frame().reset_index().set_axis(['Year', 'avg_comments_yearly'], axis=1)\n",
    "\n",
    "# avg_total_comments = int(round(avg_comments_yearly[\"avg_comments_yearly\"].mean(),0))\n",
    "\n",
    "# avg_comments_yearly.loc[len(avg_comments_yearly.index)] = ['Total', avg_total_comments]\n",
    "# avg_comments_yearly"
   ]
  },
  {
   "cell_type": "markdown",
   "id": "1d011bc6-131b-4751-ba04-c5417ddb648c",
   "metadata": {
    "tags": []
   },
   "source": [
    "#### Totals - merged & saved"
   ]
  },
  {
   "cell_type": "code",
   "execution_count": 61,
   "id": "547e6fb9-6d89-4fb9-85aa-98783263b0fc",
   "metadata": {
    "tags": []
   },
   "outputs": [],
   "source": [
    "merged_df4[\"channelName\"] = \"\"\n",
    "merged_df4['channelName'] = merged_df4['channelName'].replace([''], channel_stats[\"channelName\"].tolist())\n",
    "merged_df4.reset_index(drop=True, inplace=True)\n",
    "\n",
    "# Define the new row values\n",
    "new_row = merged_df4.loc[0:2,:].values.tolist()\n",
    "\n",
    "# Open the existing CSV file for reading\n",
    "with open('/Users/gulecs/Desktop/youtube api/media_stats/monthly_totals.csv', 'r') as file:\n",
    "    reader = csv.reader(file)\n",
    "    rows = list(reader)\n",
    "\n",
    "# Add the new row to the list of rows\n",
    "rows.extend(new_row)\n",
    "\n",
    "# Open the CSV file for writing and write the updated rows\n",
    "with open('/Users/gulecs/Desktop/youtube api/media_stats/monthly_totals.csv', 'w', newline='') as file:\n",
    "    writer = csv.writer(file)\n",
    "    writer.writerows(rows)"
   ]
  },
  {
   "cell_type": "markdown",
   "id": "a76f66f0-3ad2-4fd4-a9bd-9a62acec3742",
   "metadata": {
    "tags": []
   },
   "source": [
    "### Ratios after 6th of Feb, 2023"
   ]
  },
  {
   "cell_type": "code",
   "execution_count": 43,
   "id": "77093ad8-ceb5-42f1-a591-e25ac12b0ae1",
   "metadata": {},
   "outputs": [
    {
     "data": {
      "text/html": [
       "<div>\n",
       "<style scoped>\n",
       "    .dataframe tbody tr th:only-of-type {\n",
       "        vertical-align: middle;\n",
       "    }\n",
       "\n",
       "    .dataframe tbody tr th {\n",
       "        vertical-align: top;\n",
       "    }\n",
       "\n",
       "    .dataframe thead th {\n",
       "        text-align: right;\n",
       "    }\n",
       "</style>\n",
       "<table border=\"1\" class=\"dataframe\">\n",
       "  <thead>\n",
       "    <tr style=\"text-align: right;\">\n",
       "      <th></th>\n",
       "      <th>channelName</th>\n",
       "      <th>subscribers</th>\n",
       "      <th>views</th>\n",
       "      <th>totalVideos</th>\n",
       "      <th>playlistId</th>\n",
       "      <th>subscribers_per_video</th>\n",
       "      <th>view_per_video</th>\n",
       "      <th>video_count_after</th>\n",
       "      <th>secs_count_after</th>\n",
       "      <th>mins_count_after</th>\n",
       "      <th>...</th>\n",
       "      <th>like_count_after</th>\n",
       "      <th>comment_count_after</th>\n",
       "      <th>comment_per_video_after</th>\n",
       "      <th>view_per_video_after</th>\n",
       "      <th>like_per_video_after</th>\n",
       "      <th>secs_per_video_after</th>\n",
       "      <th>mins_per_video_after</th>\n",
       "      <th>hours_per_video_after</th>\n",
       "      <th>like_per_comment_after</th>\n",
       "      <th>view_per_like_after</th>\n",
       "    </tr>\n",
       "  </thead>\n",
       "  <tbody>\n",
       "    <tr>\n",
       "      <th>0</th>\n",
       "      <td>A Haber</td>\n",
       "      <td>648000</td>\n",
       "      <td>355928460</td>\n",
       "      <td>34180</td>\n",
       "      <td>UUKQhfw-lzz0uKnE1fY1PsAA</td>\n",
       "      <td>19.0</td>\n",
       "      <td>10413.0</td>\n",
       "      <td>1326</td>\n",
       "      <td>573519</td>\n",
       "      <td>9558.6</td>\n",
       "      <td>...</td>\n",
       "      <td>254127</td>\n",
       "      <td>39021</td>\n",
       "      <td>29.0</td>\n",
       "      <td>14415.0</td>\n",
       "      <td>192.0</td>\n",
       "      <td>432.5</td>\n",
       "      <td>7.2</td>\n",
       "      <td>0.1</td>\n",
       "      <td>6.5</td>\n",
       "      <td>75.2</td>\n",
       "    </tr>\n",
       "  </tbody>\n",
       "</table>\n",
       "<p>1 rows × 22 columns</p>\n",
       "</div>"
      ],
      "text/plain": [
       "  channelName  subscribers      views  totalVideos                playlistId  \\\n",
       "0     A Haber       648000  355928460        34180  UUKQhfw-lzz0uKnE1fY1PsAA   \n",
       "\n",
       "   subscribers_per_video  view_per_video  video_count_after  secs_count_after  \\\n",
       "0                   19.0         10413.0               1326            573519   \n",
       "\n",
       "   mins_count_after  ...  like_count_after  comment_count_after  \\\n",
       "0            9558.6  ...            254127                39021   \n",
       "\n",
       "   comment_per_video_after  view_per_video_after  like_per_video_after  \\\n",
       "0                     29.0               14415.0                 192.0   \n",
       "\n",
       "   secs_per_video_after  mins_per_video_after  hours_per_video_after  \\\n",
       "0                 432.5                   7.2                    0.1   \n",
       "\n",
       "   like_per_comment_after  view_per_like_after  \n",
       "0                     6.5                 75.2  \n",
       "\n",
       "[1 rows x 22 columns]"
      ]
     },
     "execution_count": 43,
     "metadata": {},
     "output_type": "execute_result"
    }
   ],
   "source": [
    "# Video uploaded after 6th of Feb, 2023\n",
    "video_count_after = video_df_after[\"title\"].count()\n",
    "channel_stats[\"video_count_after\"] = video_count_after # Checked\n",
    "\n",
    "# Video durationSecs after 6th of Feb, 2023\n",
    "secs_count_after = int(video_df_after[\"durationSecs\"].sum())\n",
    "channel_stats[\"secs_count_after\"] = secs_count_after # Checked\n",
    "\n",
    "# Video durationMins after 6th of Feb, 2023\n",
    "mins_count_after = round(video_df_after[\"durationMins\"].sum(),1)\n",
    "channel_stats[\"mins_count_after\"] = mins_count_after # Checked\n",
    "\n",
    "# Video durationHours after 6th of Feb, 2023\n",
    "hours_count_after = round(video_df_after[\"durationHours\"].sum(),1)\n",
    "channel_stats[\"hours_count_after\"] = hours_count_after # Checked\n",
    "\n",
    "# Video views after 6th of Feb, 2023\n",
    "view_count_after = video_df_after[\"viewCount\"].sum()\n",
    "channel_stats[\"view_count_after\"] = view_count_after # Checked\n",
    "\n",
    "# Video likes after 6th of Feb, 2023\n",
    "like_count_after = video_df_after[\"likeCount\"].sum()\n",
    "channel_stats[\"like_count_after\"] = like_count_after # Checked\n",
    "\n",
    "# Video comments after 6th of Feb, 2023\n",
    "comment_count_after = video_df_after[\"commentCount\"].sum()\n",
    "channel_stats[\"comment_count_after\"] = comment_count_after # Checked\n",
    "\n",
    "# Video comment/video ratio after 6th of Feb, 2023\n",
    "comment_per_video_after = round(comment_count_after/video_count_after,0)\n",
    "channel_stats[\"comment_per_video_after\"] = comment_per_video_after\n",
    "\n",
    "# Video view/video ratio after 6th of Feb, 2023\n",
    "view_per_video_after = round(view_count_after/video_count_after,0)\n",
    "channel_stats[\"view_per_video_after\"] = view_per_video_after\n",
    "\n",
    "# Video like/video ratio after 6th of Feb, 2023\n",
    "like_per_video_after = round(like_count_after/video_count_after,0)\n",
    "channel_stats[\"like_per_video_after\"] = like_per_video_after\n",
    "\n",
    "# Video secs/video ratio after 6th of Feb, 2023\n",
    "secs_per_video_after = round(secs_count_after/video_count_after,1)\n",
    "channel_stats[\"secs_per_video_after\"] = secs_per_video_after\n",
    "\n",
    "# Video mins/video ratio after 6th of Feb, 2023\n",
    "mins_per_video_after = round(mins_count_after/video_count_after,1)\n",
    "channel_stats[\"mins_per_video_after\"] = mins_per_video_after\n",
    "\n",
    "# Video hours/video ratio after 6th of Feb, 2023\n",
    "hours_per_video_after = round(hours_count_after/video_count_after,1)\n",
    "channel_stats[\"hours_per_video_after\"] = hours_per_video_after\n",
    "\n",
    "# Video like/comment ratio after 6th of Feb, 2023\n",
    "channel_stats[\"like_per_comment_after\"] = round(like_count_after/comment_count_after,1)\n",
    "\n",
    "# Video view/like ratio after 6th of Feb, 2023\n",
    "channel_stats[\"view_per_like_after\"] = round(view_count_after/like_count_after,1)\n",
    "\n",
    "channel_stats"
   ]
  },
  {
   "cell_type": "markdown",
   "id": "57e868ab-0d12-4b47-8794-8872dc888dc4",
   "metadata": {
    "tags": []
   },
   "source": [
    "### Ratios before 6th of Feb, 2023"
   ]
  },
  {
   "cell_type": "code",
   "execution_count": 44,
   "id": "6261bf36-e966-49ec-b14a-5814f997bbae",
   "metadata": {},
   "outputs": [
    {
     "data": {
      "text/html": [
       "<div>\n",
       "<style scoped>\n",
       "    .dataframe tbody tr th:only-of-type {\n",
       "        vertical-align: middle;\n",
       "    }\n",
       "\n",
       "    .dataframe tbody tr th {\n",
       "        vertical-align: top;\n",
       "    }\n",
       "\n",
       "    .dataframe thead th {\n",
       "        text-align: right;\n",
       "    }\n",
       "</style>\n",
       "<table border=\"1\" class=\"dataframe\">\n",
       "  <thead>\n",
       "    <tr style=\"text-align: right;\">\n",
       "      <th></th>\n",
       "      <th>channelName</th>\n",
       "      <th>subscribers</th>\n",
       "      <th>views</th>\n",
       "      <th>totalVideos</th>\n",
       "      <th>playlistId</th>\n",
       "      <th>subscribers_per_video</th>\n",
       "      <th>view_per_video</th>\n",
       "      <th>video_count_after</th>\n",
       "      <th>secs_count_after</th>\n",
       "      <th>mins_count_after</th>\n",
       "      <th>...</th>\n",
       "      <th>view_per_video_after</th>\n",
       "      <th>like_per_video_after</th>\n",
       "      <th>secs_per_video_after</th>\n",
       "      <th>mins_per_video_after</th>\n",
       "      <th>hours_per_video_after</th>\n",
       "      <th>like_per_comment_after</th>\n",
       "      <th>view_per_like_after</th>\n",
       "      <th>video_count_before</th>\n",
       "      <th>view_count_before</th>\n",
       "      <th>view_per_video_before</th>\n",
       "    </tr>\n",
       "  </thead>\n",
       "  <tbody>\n",
       "    <tr>\n",
       "      <th>0</th>\n",
       "      <td>A Haber</td>\n",
       "      <td>648000</td>\n",
       "      <td>355928460</td>\n",
       "      <td>34180</td>\n",
       "      <td>UUKQhfw-lzz0uKnE1fY1PsAA</td>\n",
       "      <td>19.0</td>\n",
       "      <td>10413.0</td>\n",
       "      <td>1326</td>\n",
       "      <td>573519</td>\n",
       "      <td>9558.6</td>\n",
       "      <td>...</td>\n",
       "      <td>14415.0</td>\n",
       "      <td>192.0</td>\n",
       "      <td>432.5</td>\n",
       "      <td>7.2</td>\n",
       "      <td>0.1</td>\n",
       "      <td>6.5</td>\n",
       "      <td>75.2</td>\n",
       "      <td>32854</td>\n",
       "      <td>336814038</td>\n",
       "      <td>10251.8</td>\n",
       "    </tr>\n",
       "  </tbody>\n",
       "</table>\n",
       "<p>1 rows × 25 columns</p>\n",
       "</div>"
      ],
      "text/plain": [
       "  channelName  subscribers      views  totalVideos                playlistId  \\\n",
       "0     A Haber       648000  355928460        34180  UUKQhfw-lzz0uKnE1fY1PsAA   \n",
       "\n",
       "   subscribers_per_video  view_per_video  video_count_after  secs_count_after  \\\n",
       "0                   19.0         10413.0               1326            573519   \n",
       "\n",
       "   mins_count_after  ...  view_per_video_after  like_per_video_after  \\\n",
       "0            9558.6  ...               14415.0                 192.0   \n",
       "\n",
       "   secs_per_video_after  mins_per_video_after  hours_per_video_after  \\\n",
       "0                 432.5                   7.2                    0.1   \n",
       "\n",
       "   like_per_comment_after  view_per_like_after  video_count_before  \\\n",
       "0                     6.5                 75.2               32854   \n",
       "\n",
       "   view_count_before  view_per_video_before  \n",
       "0          336814038                10251.8  \n",
       "\n",
       "[1 rows x 25 columns]"
      ]
     },
     "execution_count": 44,
     "metadata": {},
     "output_type": "execute_result"
    }
   ],
   "source": [
    "# Video uploaded before 6th of Feb, 2023\n",
    "video_count_before = int(channel_stats[\"totalVideos\"]) - video_count_after\n",
    "channel_stats[\"video_count_before\"] = video_count_before # Checked\n",
    "\n",
    "# Video views before 6th of Feb, 2023\n",
    "view_count_before = int(channel_stats[\"views\"]) - view_count_after\n",
    "channel_stats[\"view_count_before\"] = view_count_before # Checked\n",
    "\n",
    "# Video view/video ratio before 6th of Feb, 2023\n",
    "view_per_video_before = round(view_count_before/video_count_before,1)\n",
    "channel_stats[\"view_per_video_before\"] = view_per_video_before # Checked\n",
    "\n",
    "# channel_stats.reset_index(drop=True, inplace=True)\n",
    "channel_stats"
   ]
  },
  {
   "cell_type": "code",
   "execution_count": 45,
   "id": "4e771e24-1421-4b98-8b8b-992472b2bec8",
   "metadata": {},
   "outputs": [
    {
     "data": {
      "text/plain": [
       "25"
      ]
     },
     "execution_count": 45,
     "metadata": {},
     "output_type": "execute_result"
    }
   ],
   "source": [
    "len(channel_stats.columns.values.tolist())"
   ]
  },
  {
   "cell_type": "code",
   "execution_count": 48,
   "id": "59208f83-f5ce-44a4-8f0e-fcede7d0fdf8",
   "metadata": {},
   "outputs": [],
   "source": [
    "column_names_new = channel_stats.columns.values.tolist()\n",
    "channel_stats.reset_index(drop=True, inplace=True)\n",
    "\n",
    "# Define the new row values\n",
    "new_row = channel_stats.loc[0,:].values.tolist()\n",
    "\n",
    "# Open the existing CSV file for reading\n",
    "with open('/Users/gulecs/Desktop/youtube api/media_stats/media_stats_edited.csv', 'r') as file:\n",
    "    reader = csv.reader(file)\n",
    "    rows = list(reader)\n",
    "\n",
    "# Add the new row to the list of rows\n",
    "rows.append(new_row)\n",
    "\n",
    "# Open the CSV file for writing and write the updated rows\n",
    "with open('/Users/gulecs/Desktop/youtube api/media_stats/media_stats_edited.csv', 'w', newline='') as file:\n",
    "    writer = csv.writer(file)\n",
    "    writer.writerows(rows)"
   ]
  },
  {
   "cell_type": "markdown",
   "id": "0bfca0fa-162c-4f4c-804e-63833cbde181",
   "metadata": {
    "jp-MarkdownHeadingCollapsed": true,
    "tags": []
   },
   "source": [
    "### Implementation"
   ]
  },
  {
   "cell_type": "code",
   "execution_count": null,
   "id": "4b0ab4c9-ac10-4768-a8ce-0a28767137f7",
   "metadata": {
    "tags": []
   },
   "outputs": [],
   "source": [
    "# Video views increase after 6th of Feb, 2023\n",
    "views_rise_after = view_count_after/view_count_before\n",
    "# channel_stats[\"views_rise_after\"] = views_rise_after\n",
    "views_rise_after"
   ]
  },
  {
   "cell_type": "code",
   "execution_count": null,
   "id": "fafec64d-9374-46f0-9f5c-ca200b36ac18",
   "metadata": {},
   "outputs": [],
   "source": [
    "# Video likes increase after 6th of Feb, 2023\n",
    "likes_rise_after = like_count_after/like_count_before\n",
    "# channel_stats[\"likes_rise_after\"] = likes_rise_after\n",
    "likes_rise_after"
   ]
  },
  {
   "cell_type": "code",
   "execution_count": null,
   "id": "a4fa1513-b814-4f9c-a1a6-a009a1dd6812",
   "metadata": {},
   "outputs": [],
   "source": [
    "# Video durations increase after 6th of Feb, 2023\n",
    "dur_rise_after = duration_count_after/duration_count_before\n",
    "# channel_stats[\"dur_rise_after\"] = dur_rise_after\n",
    "dur_rise_after"
   ]
  },
  {
   "cell_type": "code",
   "execution_count": null,
   "id": "b8c3d222-dd5f-43d5-bd9d-9c04010764ef",
   "metadata": {},
   "outputs": [],
   "source": [
    "# Video comments increase after 6th of Feb, 2023\n",
    "coms_rise_after = comment_count_after/comment_count_before\n",
    "# channel_stats[\"coms_rise_after\"] = coms_rise_after\n",
    "coms_rise_after"
   ]
  },
  {
   "cell_type": "code",
   "execution_count": null,
   "id": "48980917-5796-4257-be7d-a50bf00449f1",
   "metadata": {},
   "outputs": [],
   "source": [
    "# Video comments increase per video after 6th of Feb, 2023\n",
    "comment_per_video_inc_after = comment_per_video_after/comment_per_video_before\n",
    "# channel_stats[\"comment_per_video_inc_after\"] = comment_per_video_inc_after\n",
    "comment_per_video_inc_after"
   ]
  },
  {
   "cell_type": "code",
   "execution_count": null,
   "id": "11e7b915-a507-4c26-b63c-59c7b2e1c47a",
   "metadata": {},
   "outputs": [],
   "source": [
    "# Video likes increase per video after 6th of Feb, 2023\n",
    "likes_per_video_rise_after = like_per_video_after/like_per_video_before\n",
    "# channel_stats[\"likes_per_video_rise_after\"] = likes_per_video_rise_after\n",
    "likes_per_video_rise_after"
   ]
  },
  {
   "cell_type": "code",
   "execution_count": null,
   "id": "4fd35fcb-c953-43ac-9bf6-e22a5b6484ee",
   "metadata": {},
   "outputs": [],
   "source": [
    "# Video views increase per video after 6th of Feb, 2023\n",
    "views_per_video_rise_after = view_per_video_after/view_per_video_before\n",
    "# channel_stats[\"views_per_video_rise_after\"] = views_per_video_rise_after\n",
    "views_per_video_rise_after"
   ]
  },
  {
   "cell_type": "code",
   "execution_count": null,
   "id": "1560cb8c-1cf1-48bd-aab7-2d02bf7bd1b4",
   "metadata": {},
   "outputs": [],
   "source": [
    "# Video durations increase per video after 6th of Feb, 2023\n",
    "dur_per_video_rise_after = duration_per_video_after/duration_per_video_before\n",
    "# channel_stats[\"dur_per_video_rise_after\"] = dur_per_video_rise_after\n",
    "dur_per_video_rise_after"
   ]
  },
  {
   "cell_type": "markdown",
   "id": "7a61af43",
   "metadata": {
    "tags": []
   },
   "source": [
    "## EDA"
   ]
  },
  {
   "cell_type": "markdown",
   "id": "20401490",
   "metadata": {
    "jp-MarkdownHeadingCollapsed": true,
    "tags": []
   },
   "source": [
    "### Best Performing Videos"
   ]
  },
  {
   "cell_type": "code",
   "execution_count": null,
   "id": "75e1edac",
   "metadata": {},
   "outputs": [],
   "source": [
    "sns.set(rc = {'figure.figsize':(10,6)})\n",
    "ax = sns.barplot(x = 'title', y = 'viewCount', data = video_df.sort_values('viewCount', ascending=False)[0:9])\n",
    "plot = ax.set_xticklabels(ax.get_xticklabels(), rotation=90)\n",
    "ax.yaxis.set_major_formatter(ticker.FuncFormatter(lambda x, pos:'{:,.0f}'.format(x/1000) + 'K'))"
   ]
  },
  {
   "cell_type": "code",
   "execution_count": null,
   "id": "41f5cb81",
   "metadata": {},
   "outputs": [],
   "source": [
    "sns.set(rc = {'figure.figsize':(10,6)})\n",
    "ax = sns.barplot(x = 'title', y = 'viewCount', data = video_df_before.sort_values('viewCount', ascending=False)[0:9])\n",
    "plot = ax.set_xticklabels(ax.get_xticklabels(), rotation=90)\n",
    "ax.set(title='After Earthquake 6th Feb 2023')\n",
    "ax.yaxis.set_major_formatter(ticker.FuncFormatter(lambda x, pos:'{:,.0f}'.format(x/1000) + 'K'))"
   ]
  },
  {
   "cell_type": "code",
   "execution_count": null,
   "id": "204a6ed5",
   "metadata": {},
   "outputs": [],
   "source": [
    "sns.set(rc = {'figure.figsize':(10,6)})\n",
    "ax = sns.barplot(x = 'title', y = 'viewCount', data = video_df_before.sort_values('viewCount', ascending=False)[0:9])\n",
    "plot = ax.set_xticklabels(ax.get_xticklabels(), rotation=90)\n",
    "ax.set(title='Before Earthquake 6th Feb 2023')\n",
    "ax.yaxis.set_major_formatter(ticker.FuncFormatter(lambda x, pos:'{:,.0f}'.format(x/1000) + 'K'))"
   ]
  },
  {
   "cell_type": "markdown",
   "id": "769540b7",
   "metadata": {
    "heading_collapsed": true,
    "jp-MarkdownHeadingCollapsed": true,
    "tags": []
   },
   "source": [
    "### Worst performing videos"
   ]
  },
  {
   "cell_type": "code",
   "execution_count": null,
   "id": "20fcd1c9",
   "metadata": {
    "hidden": true
   },
   "outputs": [],
   "source": [
    "ax = sns.barplot(x = 'title', y = 'viewCount', data = video_df.sort_values('viewCount', ascending=True)[0:9])\n",
    "plot = ax.set_xticklabels(ax.get_xticklabels(), rotation=90)\n",
    "ax.bar_label(ax.containers[0], label_type='edge')\n",
    "ax.yaxis.set_major_formatter(ticker.FuncFormatter(lambda x, pos:'{:,.0f}'.format(x/1000) + 'K'))"
   ]
  },
  {
   "cell_type": "code",
   "execution_count": null,
   "id": "87051027",
   "metadata": {
    "hidden": true
   },
   "outputs": [],
   "source": [
    "ax = sns.barplot(x = 'title', y = 'viewCount', data = video_df_after.sort_values('viewCount', ascending=True)[0:9])\n",
    "plot = ax.set_xticklabels(ax.get_xticklabels(), rotation=90)\n",
    "ax.bar_label(ax.containers[0], label_type='edge')\n",
    "ax.set(title='After Earthquake 6th Feb 2023')\n",
    "ax.yaxis.set_major_formatter(ticker.FuncFormatter(lambda x, pos:'{:,.0f}'.format(x/1000) + 'K'))"
   ]
  },
  {
   "cell_type": "code",
   "execution_count": null,
   "id": "40179ab0",
   "metadata": {
    "hidden": true
   },
   "outputs": [],
   "source": [
    "ax = sns.barplot(x = 'title', y = 'viewCount', data = video_df_before.sort_values('viewCount', ascending=True)[0:9])\n",
    "plot = ax.set_xticklabels(ax.get_xticklabels(), rotation=90)\n",
    "ax.bar_label(ax.containers[0], label_type='edge')\n",
    "ax.set(title='Before Earthquake 6th Feb 2023')\n",
    "ax.yaxis.set_major_formatter(ticker.FuncFormatter(lambda x, pos:'{:,.0f}'.format(x/1000) + 'K'))"
   ]
  },
  {
   "cell_type": "markdown",
   "id": "59b1a6fc",
   "metadata": {
    "heading_collapsed": true,
    "jp-MarkdownHeadingCollapsed": true,
    "tags": []
   },
   "source": [
    "### View distribution per video"
   ]
  },
  {
   "cell_type": "code",
   "execution_count": null,
   "id": "753030ac",
   "metadata": {
    "hidden": true,
    "scrolled": true
   },
   "outputs": [],
   "source": [
    "sns.violinplot(video_df['channelTitle'], video_df['viewCount'])\n",
    "plt.show()"
   ]
  },
  {
   "cell_type": "code",
   "execution_count": null,
   "id": "ca0c972f",
   "metadata": {
    "hidden": true
   },
   "outputs": [],
   "source": [
    "sns.violinplot(video_df_after['channelTitle'], video_df_after['viewCount']).set(title='After Earthquake 6th Feb 2023')\n",
    "plt.show()"
   ]
  },
  {
   "cell_type": "code",
   "execution_count": null,
   "id": "91405180",
   "metadata": {
    "hidden": true
   },
   "outputs": [],
   "source": [
    "sns.violinplot(video_df_before['channelTitle'], video_df_before['viewCount']).set(title='Before Earthquake 6th Feb 2023')\n",
    "plt.show()"
   ]
  },
  {
   "cell_type": "markdown",
   "id": "3fb3ab64",
   "metadata": {
    "jp-MarkdownHeadingCollapsed": true,
    "tags": []
   },
   "source": [
    "### Views vs. likes and comments"
   ]
  },
  {
   "cell_type": "code",
   "execution_count": null,
   "id": "ffc4cb6b",
   "metadata": {},
   "outputs": [],
   "source": [
    "ax = sns.scatterplot(x='likeCount', y='viewCount',hue= 'commentCount', data= video_df)\n",
    "ax.ticklabel_format(style='plain')\n",
    "# ax.get_yaxis().set_visible(False)\n",
    "plt.show()"
   ]
  },
  {
   "cell_type": "markdown",
   "id": "8d670085",
   "metadata": {},
   "source": [
    "#### After Earthquake on 6th Feb 2023"
   ]
  },
  {
   "cell_type": "code",
   "execution_count": null,
   "id": "18eb8add",
   "metadata": {},
   "outputs": [],
   "source": [
    "ax = sns.scatterplot(x='likeCount', y='viewCount',hue= 'commentCount', data= video_df_after)\n",
    "ax.ticklabel_format(style='plain')\n",
    "# ax.get_yaxis().set_visible(False)\n",
    "plt.show()"
   ]
  },
  {
   "cell_type": "markdown",
   "id": "9347fc2a",
   "metadata": {
    "jp-MarkdownHeadingCollapsed": true,
    "tags": []
   },
   "source": [
    "#### Before Earthquake on 6th Feb 2023"
   ]
  },
  {
   "cell_type": "code",
   "execution_count": null,
   "id": "90a61f3c",
   "metadata": {},
   "outputs": [],
   "source": [
    "ax = sns.scatterplot(x='likeCount', y='viewCount',hue= 'commentCount', data= video_df_before)\n",
    "ax.ticklabel_format(style='plain')\n",
    "# ax.get_yaxis().set_visible(False)\n",
    "plt.show()"
   ]
  },
  {
   "cell_type": "markdown",
   "id": "8f4917bd",
   "metadata": {
    "heading_collapsed": true,
    "jp-MarkdownHeadingCollapsed": true,
    "tags": []
   },
   "source": [
    "### Video duration"
   ]
  },
  {
   "cell_type": "code",
   "execution_count": null,
   "id": "3871c102",
   "metadata": {
    "hidden": true
   },
   "outputs": [],
   "source": [
    "sns.histplot(data = video_df, x = 'durationSecs', bins=100)\n",
    "plt.show()"
   ]
  },
  {
   "cell_type": "code",
   "execution_count": null,
   "id": "db81e97e",
   "metadata": {
    "hidden": true
   },
   "outputs": [],
   "source": [
    "sns.histplot(data = video_df_before[video_df_before[\"durationSecs\"]<50000], x = 'durationSecs', bins=100).set(title='Before Earthquake 6th Feb 2023')\n",
    "plt.show()"
   ]
  },
  {
   "cell_type": "code",
   "execution_count": null,
   "id": "00b411c1",
   "metadata": {
    "hidden": true
   },
   "outputs": [],
   "source": [
    "sns.histplot(data = video_df_after, x = 'durationSecs', bins=100).set(title='After Earthquake 6th Feb 2023')\n",
    "plt.show()"
   ]
  },
  {
   "cell_type": "markdown",
   "id": "ff7f8d2e",
   "metadata": {
    "heading_collapsed": true,
    "jp-MarkdownHeadingCollapsed": true,
    "tags": []
   },
   "source": [
    "### Wordcloud for video titles"
   ]
  },
  {
   "cell_type": "markdown",
   "id": "51512c11",
   "metadata": {
    "hidden": true,
    "jp-MarkdownHeadingCollapsed": true,
    "tags": []
   },
   "source": [
    "#### After Earthquake 6th Feb 2023"
   ]
  },
  {
   "cell_type": "code",
   "execution_count": null,
   "id": "49f0dd46",
   "metadata": {
    "hidden": true
   },
   "outputs": [],
   "source": [
    "stop_words = set(stopwords.words('english'))\n",
    "video_df_after['title_no_stopwords'] = video_df_after['title'].apply(lambda x: [item for item in str(x).split() if item not in stop_words])\n",
    "\n",
    "all_words = list([a for b in video_df_after['title_no_stopwords'].tolist() for a in b])\n",
    "all_words_str = ' '.join(all_words) \n",
    "\n",
    "def plot_cloud(wordcloud):\n",
    "    plt.figure(figsize=(30, 20))\n",
    "    plt.imshow(wordcloud)\n",
    "    plt.axis(\"off\");\n",
    "\n",
    "wordcloud = WordCloud(width = 2000, height = 1000, random_state=1, background_color='black', \n",
    "                      colormap='viridis', collocations=False).generate(all_words_str)\n",
    "plot_cloud(wordcloud)"
   ]
  },
  {
   "cell_type": "markdown",
   "id": "8680c10e",
   "metadata": {
    "hidden": true
   },
   "source": [
    "#### Before Earthquake 6th Feb 2023"
   ]
  },
  {
   "cell_type": "code",
   "execution_count": null,
   "id": "5f1ff90c",
   "metadata": {
    "hidden": true
   },
   "outputs": [],
   "source": [
    "# stop_words = set(stopwords.words('english'))\n",
    "# video_df_before['title_no_stopwords'] = video_df_before['title'].apply(lambda x: [item for item in str(x).split() if item not in stop_words])\n",
    "\n",
    "# all_words = list([a for b in video_df_before['title_no_stopwords'].tolist() for a in b])\n",
    "# all_words_str = ' '.join(all_words) \n",
    "\n",
    "# def plot_cloud(wordcloud):\n",
    "#     plt.figure(figsize=(30, 20))\n",
    "#     plt.imshow(wordcloud) \n",
    "#     plt.axis(\"off\");\n",
    "\n",
    "# wordcloud = WordCloud(width = 2000, height = 1000, random_state=1, background_color='black', \n",
    "#                       colormap='viridis', collocations=False).generate(all_words_str)\n",
    "# plot_cloud(wordcloud)"
   ]
  },
  {
   "cell_type": "code",
   "execution_count": null,
   "id": "90acd42c",
   "metadata": {
    "hidden": true
   },
   "outputs": [],
   "source": [
    "# stop_words = set(stopwords.words('english'))\n",
    "# video_df['title_no_stopwords'] = video_df['title'].apply(lambda x: [item for item in str(x).split() if item not in stop_words])\n",
    "\n",
    "# all_words = list([a for b in video_df['title_no_stopwords'].tolist() for a in b])\n",
    "# all_words_str = ' '.join(all_words) \n",
    "\n",
    "# def plot_cloud(wordcloud):\n",
    "#     plt.figure(figsize=(30, 20))\n",
    "#     plt.imshow(wordcloud) \n",
    "#     plt.axis(\"off\");\n",
    "\n",
    "# wordcloud = WordCloud(width = 2000, height = 1000, random_state=1, background_color='black', \n",
    "#                       colormap='viridis', collocations=False).generate(all_words_str)\n",
    "# plot_cloud(wordcloud)"
   ]
  },
  {
   "cell_type": "markdown",
   "id": "943bc4cb",
   "metadata": {
    "tags": []
   },
   "source": [
    "### Upload schedule"
   ]
  },
  {
   "cell_type": "markdown",
   "id": "fc286ff3-76bc-4bcc-a13f-741be2cc444b",
   "metadata": {
    "tags": []
   },
   "source": [
    "#### Daily Upload After"
   ]
  },
  {
   "cell_type": "code",
   "execution_count": null,
   "id": "06b6b939",
   "metadata": {},
   "outputs": [],
   "source": [
    "# day_df_before = round(pd.DataFrame(video_df_before['pushblishDayName'].value_counts())/(52*len(years)-1),1)\n",
    "# weekdays = [ 'Monday', 'Tuesday', 'Wednesday', 'Thursday', 'Friday', 'Saturday', 'Sunday']\n",
    "# day_df_before = day_df_before.reindex(weekdays)\n",
    "# ax = day_df_before.reset_index().plot.bar(x='index', y='pushblishDayName', rot=0, xlabel=\"\")\n",
    "# ax.bar_label(ax.containers[0], label_type='edge')\n",
    "# ax.set(title='Before Earthquake 6th Feb 2023')\n",
    "# ax.get_legend().remove()\n",
    "# plt.show()"
   ]
  },
  {
   "cell_type": "code",
   "execution_count": 53,
   "id": "9d5c6652-76bc-4aaa-a6f7-c8ace1b389ea",
   "metadata": {},
   "outputs": [
    {
     "data": {
      "text/html": [
       "<div>\n",
       "<style scoped>\n",
       "    .dataframe tbody tr th:only-of-type {\n",
       "        vertical-align: middle;\n",
       "    }\n",
       "\n",
       "    .dataframe tbody tr th {\n",
       "        vertical-align: top;\n",
       "    }\n",
       "\n",
       "    .dataframe thead th {\n",
       "        text-align: right;\n",
       "    }\n",
       "</style>\n",
       "<table border=\"1\" class=\"dataframe\">\n",
       "  <thead>\n",
       "    <tr style=\"text-align: right;\">\n",
       "      <th></th>\n",
       "      <th>pushblishDayName</th>\n",
       "      <th>count</th>\n",
       "    </tr>\n",
       "  </thead>\n",
       "  <tbody>\n",
       "    <tr>\n",
       "      <th>0</th>\n",
       "      <td>Monday</td>\n",
       "      <td>8</td>\n",
       "    </tr>\n",
       "    <tr>\n",
       "      <th>1</th>\n",
       "      <td>Tuesday</td>\n",
       "      <td>7</td>\n",
       "    </tr>\n",
       "    <tr>\n",
       "      <th>2</th>\n",
       "      <td>Wednesday</td>\n",
       "      <td>7</td>\n",
       "    </tr>\n",
       "    <tr>\n",
       "      <th>3</th>\n",
       "      <td>Thursday</td>\n",
       "      <td>7</td>\n",
       "    </tr>\n",
       "    <tr>\n",
       "      <th>4</th>\n",
       "      <td>Friday</td>\n",
       "      <td>7</td>\n",
       "    </tr>\n",
       "    <tr>\n",
       "      <th>5</th>\n",
       "      <td>Saturday</td>\n",
       "      <td>7</td>\n",
       "    </tr>\n",
       "    <tr>\n",
       "      <th>6</th>\n",
       "      <td>Sunday</td>\n",
       "      <td>7</td>\n",
       "    </tr>\n",
       "  </tbody>\n",
       "</table>\n",
       "</div>"
      ],
      "text/plain": [
       "  pushblishDayName  count\n",
       "0           Monday      8\n",
       "1          Tuesday      7\n",
       "2        Wednesday      7\n",
       "3         Thursday      7\n",
       "4           Friday      7\n",
       "5         Saturday      7\n",
       "6           Sunday      7"
      ]
     },
     "execution_count": 53,
     "metadata": {},
     "output_type": "execute_result"
    }
   ],
   "source": [
    "import datetime\n",
    "\n",
    "# Set the specific date and time\n",
    "start_date = datetime.datetime(2023, 2, 6, 4, 17, 0)  # Year, Month, Day, Hour, Minute, Second\n",
    "end_date =datetime.datetime.now()\n",
    "\n",
    "# Define the days of the week to count\n",
    "days_of_week = [\"Monday\", \"Tuesday\", \"Wednesday\", \"Thursday\", \"Friday\", \"Saturday\", \"Sunday\"]\n",
    "\n",
    "# Initialize an empty dictionary to store the counts\n",
    "counts = {}\n",
    "\n",
    "# Loop through the days of the week and count the number of occurrences\n",
    "for day in days_of_week:\n",
    "    count = 0\n",
    "    current_date = start_date\n",
    "    while current_date <= end_date:\n",
    "        if current_date.strftime(\"%A\") == day:\n",
    "            count += 1\n",
    "        current_date += datetime.timedelta(days=1)\n",
    "    counts[day] = count\n",
    "\n",
    "# Convert the counts to a pandas dataframe and display the result\n",
    "count_days_after = pd.DataFrame.from_dict(counts, orient=\"index\", columns=[\"pushblishDayName\"])\n",
    "count_days_after = count_days_after.reset_index().set_axis(['pushblishDayName', 'count'], axis=1)\n",
    "count_days_after"
   ]
  },
  {
   "cell_type": "code",
   "execution_count": 54,
   "id": "317e59a3-2138-4f85-9c1f-074b0ae6df03",
   "metadata": {},
   "outputs": [
    {
     "data": {
      "text/html": [
       "<div>\n",
       "<style scoped>\n",
       "    .dataframe tbody tr th:only-of-type {\n",
       "        vertical-align: middle;\n",
       "    }\n",
       "\n",
       "    .dataframe tbody tr th {\n",
       "        vertical-align: top;\n",
       "    }\n",
       "\n",
       "    .dataframe thead th {\n",
       "        text-align: right;\n",
       "    }\n",
       "</style>\n",
       "<table border=\"1\" class=\"dataframe\">\n",
       "  <thead>\n",
       "    <tr style=\"text-align: right;\">\n",
       "      <th></th>\n",
       "      <th>pushblishDayName</th>\n",
       "      <th>video_daily_after</th>\n",
       "      <th>count</th>\n",
       "      <th>daily_counts</th>\n",
       "      <th>channelName</th>\n",
       "    </tr>\n",
       "  </thead>\n",
       "  <tbody>\n",
       "    <tr>\n",
       "      <th>0</th>\n",
       "      <td>Monday</td>\n",
       "      <td>232</td>\n",
       "      <td>8</td>\n",
       "      <td>29.0</td>\n",
       "      <td>A Haber</td>\n",
       "    </tr>\n",
       "    <tr>\n",
       "      <th>1</th>\n",
       "      <td>Tuesday</td>\n",
       "      <td>227</td>\n",
       "      <td>7</td>\n",
       "      <td>32.4</td>\n",
       "      <td>A Haber</td>\n",
       "    </tr>\n",
       "    <tr>\n",
       "      <th>2</th>\n",
       "      <td>Wednesday</td>\n",
       "      <td>243</td>\n",
       "      <td>7</td>\n",
       "      <td>34.7</td>\n",
       "      <td>A Haber</td>\n",
       "    </tr>\n",
       "    <tr>\n",
       "      <th>3</th>\n",
       "      <td>Thursday</td>\n",
       "      <td>249</td>\n",
       "      <td>7</td>\n",
       "      <td>35.6</td>\n",
       "      <td>A Haber</td>\n",
       "    </tr>\n",
       "    <tr>\n",
       "      <th>4</th>\n",
       "      <td>Friday</td>\n",
       "      <td>139</td>\n",
       "      <td>7</td>\n",
       "      <td>19.9</td>\n",
       "      <td>A Haber</td>\n",
       "    </tr>\n",
       "    <tr>\n",
       "      <th>5</th>\n",
       "      <td>Saturday</td>\n",
       "      <td>85</td>\n",
       "      <td>7</td>\n",
       "      <td>12.1</td>\n",
       "      <td>A Haber</td>\n",
       "    </tr>\n",
       "    <tr>\n",
       "      <th>6</th>\n",
       "      <td>Sunday</td>\n",
       "      <td>151</td>\n",
       "      <td>7</td>\n",
       "      <td>21.6</td>\n",
       "      <td>A Haber</td>\n",
       "    </tr>\n",
       "  </tbody>\n",
       "</table>\n",
       "</div>"
      ],
      "text/plain": [
       "  pushblishDayName  video_daily_after  count  daily_counts channelName\n",
       "0           Monday                232      8          29.0     A Haber\n",
       "1          Tuesday                227      7          32.4     A Haber\n",
       "2        Wednesday                243      7          34.7     A Haber\n",
       "3         Thursday                249      7          35.6     A Haber\n",
       "4           Friday                139      7          19.9     A Haber\n",
       "5         Saturday                 85      7          12.1     A Haber\n",
       "6           Sunday                151      7          21.6     A Haber"
      ]
     },
     "execution_count": 54,
     "metadata": {},
     "output_type": "execute_result"
    }
   ],
   "source": [
    "avg_daily_video_after = pd.DataFrame(video_df_after['pushblishDayName'].value_counts()).reset_index().set_axis(['pushblishDayName', 'video_daily_after'], axis=1)\n",
    "avg_daily_video_after = avg_daily_video_after.merge(count_days_after, how='left', on='pushblishDayName')\n",
    "avg_daily_video_after[\"daily_counts\"] = round((avg_daily_video_after[\"video_daily_after\"] / avg_daily_video_after[\"count\"]),1)\n",
    "\n",
    "# create a categorical data type for the days of the week\n",
    "cat_type = pd.api.types.CategoricalDtype(categories=days_of_week, ordered=True)\n",
    "avg_daily_video_after['pushblishDayName'] = avg_daily_video_after['pushblishDayName'].astype(cat_type)\n",
    "\n",
    "# sort the dataframe based on the categorical data type\n",
    "avg_daily_video_after = avg_daily_video_after.sort_values('pushblishDayName')\n",
    "\n",
    "avg_daily_video_after.reset_index(drop=True, inplace=True)\n",
    "\n",
    "avg_daily_video_after[\"channelName\"] = \"\"\n",
    "avg_daily_video_after['channelName'] = avg_daily_video_after['channelName'].replace([''], channel_stats[\"channelName\"].tolist())\n",
    "avg_daily_video_after"
   ]
  },
  {
   "cell_type": "code",
   "execution_count": 62,
   "id": "ae8fad5b-95b4-49f3-b0dc-5c2e76785e1d",
   "metadata": {},
   "outputs": [],
   "source": [
    "avg_daily_video_after.reset_index(drop=True, inplace=True)\n",
    "\n",
    "# Define the new row values\n",
    "new_row = avg_daily_video_after.loc[0:7,:].values.tolist()\n",
    "\n",
    "# Open the existing CSV file for reading\n",
    "with open('/Users/gulecs/Desktop/youtube api/media_stats/daily_totals.csv', 'r') as file:\n",
    "    reader = csv.reader(file)\n",
    "    rows = list(reader)\n",
    "\n",
    "# Add the new row to the list of rows\n",
    "rows.extend(new_row)\n",
    "\n",
    "# Open the CSV file for writing and write the updated rows\n",
    "with open('/Users/gulecs/Desktop/youtube api/media_stats/daily_totals.csv', 'w', newline='') as file:\n",
    "    writer = csv.writer(file)\n",
    "    writer.writerows(rows)"
   ]
  },
  {
   "cell_type": "code",
   "execution_count": 56,
   "id": "4f355fad",
   "metadata": {},
   "outputs": [
    {
     "data": {
      "image/png": "[encoded data removed]",
      "text/plain": [
       "<Figure size 640x480 with 1 Axes>"
      ]
     },
     "metadata": {},
     "output_type": "display_data"
    }
   ],
   "source": [
    "# day_df_after = round(pd.DataFrame(video_df_after['pushblishDayName'].value_counts())/int(divide_after),1)\n",
    "# weekdays = [ 'Monday', 'Tuesday', 'Wednesday', 'Thursday', 'Friday', 'Saturday', 'Sunday']\n",
    "# day_df_after = day_df_after.reindex(weekdays)\n",
    "ax = avg_daily_video_after.plot.bar(x='pushblishDayName', y='daily_counts', rot=0, xlabel=\"\")\n",
    "ax.bar_label(ax.containers[0], label_type='edge')\n",
    "ax.set(title='After Earthquake 6th Feb 2023')\n",
    "ax.get_legend().remove()\n",
    "plt.show()"
   ]
  },
  {
   "cell_type": "code",
   "execution_count": null,
   "id": "685eb2ba",
   "metadata": {},
   "outputs": [],
   "source": [
    "# day_df = round(pd.DataFrame(video_df['pushblishDayName'].value_counts())/(52*len(years)),1)\n",
    "# weekdays = [ 'Monday', 'Tuesday', 'Wednesday', 'Thursday', 'Friday', 'Saturday', 'Sunday']\n",
    "# day_df = day_df.reindex(weekdays)\n",
    "# ax = day_df.reset_index().plot.bar(x='index', y='pushblishDayName', rot=0, xlabel=\"\")\n",
    "# ax.bar_label(ax.containers[0], label_type='edge')\n",
    "# ax.get_legend().remove()\n",
    "# plt.show()"
   ]
  },
  {
   "cell_type": "markdown",
   "id": "84de5bfa",
   "metadata": {
    "tags": []
   },
   "source": [
    "#### Monthly Upload After"
   ]
  },
  {
   "cell_type": "code",
   "execution_count": 57,
   "id": "92ce2c8f",
   "metadata": {
    "scrolled": true
   },
   "outputs": [
    {
     "data": {
      "image/png": "[encoded data removed]",
      "text/plain": [
       "<Figure size 640x480 with 1 Axes>"
      ]
     },
     "metadata": {},
     "output_type": "display_data"
    }
   ],
   "source": [
    "ax2_1 = sns.barplot(x='Month', y='monthly_video_count_after', data=video_after_per_month, order=sort_order)\n",
    "ax2_1.bar_label(ax2_1.containers[0], label_type='edge')\n",
    "ax2_1.set(title='After Earthquake 6th Feb 2023')\n",
    "plt.show()"
   ]
  },
  {
   "cell_type": "code",
   "execution_count": null,
   "id": "c8e179ff",
   "metadata": {},
   "outputs": [],
   "source": [
    "# video_before_per_month = video_df_before.groupby('Month', as_index =False).size()\n",
    "# sort_order=['Jan','Feb','Mar','Apr','May','Jun','Jul','Aug','Sep','Oct','Nov','Dec',]\n",
    "# video_before_per_month.index = pd.CategoricalIndex(video_before_per_month['Month'], categories = sort_order, ordered= True)\n",
    "# video_before_per_month.sort_index()"
   ]
  },
  {
   "cell_type": "code",
   "execution_count": null,
   "id": "37df6098",
   "metadata": {
    "scrolled": true
   },
   "outputs": [],
   "source": [
    "# ax2_2 = sns.barplot(x='Month', y='size', data=video_before_per_month, order=Months_Order)\n",
    "# ax2_2.bar_label(ax2_2.containers[0], label_type='edge')\n",
    "# ax2_2.set(title='Before Earthquake 6th Feb 2023')\n",
    "# plt.show()"
   ]
  },
  {
   "cell_type": "code",
   "execution_count": null,
   "id": "ddd9df78-b197-4b28-aeb4-3ca6de0bde6e",
   "metadata": {},
   "outputs": [],
   "source": []
  }
 ],
 "metadata": {
  "kernelspec": {
   "display_name": "Python 3 (ipykernel)",
   "language": "python",
   "name": "python3"
  },
  "language_info": {
   "codemirror_mode": {
    "name": "ipython",
    "version": 3
   },
   "file_extension": ".py",
   "mimetype": "text/x-python",
   "name": "python",
   "nbconvert_exporter": "python",
   "pygments_lexer": "ipython3",
   "version": "3.10.6"
  },
  "toc": {
   "base_numbering": 1,
   "nav_menu": {},
   "number_sections": true,
   "sideBar": true,
   "skip_h1_title": false,
   "title_cell": "Table of Contents",
   "title_sidebar": "Contents",
   "toc_cell": false,
   "toc_position": {},
   "toc_section_display": true,
   "toc_window_display": false
  },
  "toc-autonumbering": true,
  "toc-showcode": false,
  "toc-showtags": false
 },
 "nbformat": 4,
 "nbformat_minor": 5
}
